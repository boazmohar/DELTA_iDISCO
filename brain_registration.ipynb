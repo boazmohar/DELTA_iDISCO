{
 "cells": [
  {
   "cell_type": "markdown",
   "metadata": {},
   "source": [
    "# Group Brain Registration Using pirt\n",
    "\n",
    "This notebook implements group registration for brain images from the MouseCity3 dataset using the pirt library with DiffeomorphicDemonsRegistration."
   ]
  },
  {
   "cell_type": "code",
   "execution_count": 1,
   "metadata": {},
   "outputs": [],
   "source": [
    "import os\n",
    "import numpy as np\n",
    "import matplotlib.pyplot as plt\n",
    "from tqdm.notebook import tqdm\n",
    "import pirt\n",
    "import tifffile\n",
    "from pathlib import Path\n",
    "from skimage import io, transform, exposure"
   ]
  },
  {
   "cell_type": "markdown",
   "metadata": {},
   "source": [
    "## Configuration"
   ]
  },
  {
   "cell_type": "code",
   "execution_count": null,
   "metadata": {},
   "outputs": [],
   "source": "# Data directory\ndata_dir = Path('/nearline/spruston/Boaz/DELTA/I2/20250111_IDISCO_MouseCity3/')\n\n# Registration settings\nregistration_settings = {\n    'grid_sampling_factor': 1,  # The grid sampling of the grid at the final level\n    'scale_sampling': 20,       # The amount of iterations for each level\n    'speed_factor': 2,          # The relative force of the transform\n    'downscale_factor': 0.25,   # Downscale images to speed up registration\n}"
  },
  {
   "cell_type": "markdown",
   "metadata": {},
   "source": [
    "## Find all brain images"
   ]
  },
  {
   "cell_type": "code",
   "execution_count": 3,
   "metadata": {},
   "outputs": [
    {
     "name": "stdout",
     "output_type": "stream",
     "text": [
      "Found 6 brain images:\n",
      "  ANM555974: /nearline/spruston/Boaz/DELTA/I2/20250111_IDISCO_MouseCity3/ANM555974/itk/ch0.tif\n",
      "  ANM555975: /nearline/spruston/Boaz/DELTA/I2/20250111_IDISCO_MouseCity3/ANM555975/itk/ch0.tif\n",
      "  ANM555976: /nearline/spruston/Boaz/DELTA/I2/20250111_IDISCO_MouseCity3/ANM555976/itk/ch0.tif\n",
      "  ANM556543: /nearline/spruston/Boaz/DELTA/I2/20250111_IDISCO_MouseCity3/ANM556543/itk/ch0.tif\n",
      "  ANM556544: /nearline/spruston/Boaz/DELTA/I2/20250111_IDISCO_MouseCity3/ANM556544/itk/ch0.tif\n",
      "  ANM556545: /nearline/spruston/Boaz/DELTA/I2/20250111_IDISCO_MouseCity3/ANM556545/itk/ch0.tif\n"
     ]
    }
   ],
   "source": [
    "def find_brain_images(data_dir):\n",
    "    \"\"\"Find all ch0.tif files in the data directory\n",
    "    \n",
    "    Args:\n",
    "        data_dir (Path): Path to the data directory\n",
    "        \n",
    "    Returns:\n",
    "        dict: Dictionary mapping animal IDs to file paths\n",
    "    \"\"\"\n",
    "    brain_images = {}\n",
    "    \n",
    "    # List all animal directories\n",
    "    for animal_dir in data_dir.glob('ANM*'):\n",
    "        if animal_dir.is_dir():\n",
    "            # Check if itk/ch0.tif exists\n",
    "            ch0_file = animal_dir / 'itk' / 'ch0.tif'\n",
    "            if ch0_file.exists():\n",
    "                animal_id = animal_dir.name\n",
    "                brain_images[animal_id] = ch0_file\n",
    "    \n",
    "    return brain_images\n",
    "\n",
    "# Find all brain images\n",
    "brain_images = find_brain_images(data_dir)\n",
    "print(f\"Found {len(brain_images)} brain images:\")\n",
    "for animal_id, file_path in brain_images.items():\n",
    "    print(f\"  {animal_id}: {file_path}\")"
   ]
  },
  {
   "cell_type": "markdown",
   "metadata": {},
   "source": [
    "## Load and preprocess images"
   ]
  },
  {
   "cell_type": "code",
   "execution_count": null,
   "metadata": {},
   "outputs": [],
   "source": [
    "def load_and_preprocess_image(file_path, downscale_factor=0.25):\n",
    "    \"\"\"Load and preprocess a brain image\n",
    "    \n",
    "    Args:\n",
    "        file_path (Path): Path to the image file\n",
    "        downscale_factor (float): Factor to downscale the image\n",
    "        \n",
    "    Returns:\n",
    "        np.ndarray: Preprocessed image\n",
    "    \"\"\"\n",
    "    # Load image\n",
    "    print(f\"Loading {file_path}...\")\n",
    "    img = tifffile.imread(file_path)\n",
    "    \n",
    "    # Get image info\n",
    "    print(f\"  Original shape: {img.shape}, dtype: {img.dtype}\")\n",
    "    \n",
    "    # For 3D images, take middle slice or maximum projection\n",
    "    if len(img.shape) == 3:\n",
    "        # Take middle slice for demonstration\n",
    "        middle_slice = img.shape[0] // 2\n",
    "        img = img[middle_slice]\n",
    "        print(f\"  Taking middle slice: {middle_slice}, new shape: {img.shape}\")\n",
    "        \n",
    "        # Alternatively, use maximum projection\n",
    "        # img = np.max(img, axis=0)\n",
    "        # print(f\"  Using maximum projection, new shape: {img.shape}\")\n",
    "    \n",
    "    # Rescale to 0-1 float\n",
    "    img = img.astype(np.float32)\n",
    "    img = (img - img.min()) / (img.max() - img.min())\n",
    "    \n",
    "    # Downscale if needed\n",
    "    if downscale_factor < 1.0:\n",
    "        new_shape = (int(img.shape[0] * downscale_factor), int(img.shape[1] * downscale_factor))\n",
    "        img = transform.resize(img, new_shape, anti_aliasing=True, preserve_range=True)\n",
    "        print(f\"  Downscaled to: {img.shape}\")\n",
    "    \n",
    "    # Enhance contrast\n",
    "    img = exposure.equalize_adapthist(img)\n",
    "    \n",
    "    return img\n",
    "\n",
    "# Load a sample image to check\n",
    "if brain_images:\n",
    "    sample_id = list(brain_images.keys())[0]\n",
    "    sample_img = load_and_preprocess_image(brain_images[sample_id], registration_settings['downscale_factor'])\n",
    "    \n",
    "    # Display the image\n",
    "    plt.figure(figsize=(10, 8))\n",
    "    plt.imshow(sample_img, cmap='gray')\n",
    "    plt.title(f\"Sample image: {sample_id}\")\n",
    "    plt.colorbar()\n",
    "    plt.show()\n",
    "else:\n",
    "    print(\"No brain images found!\")"
   ]
  },
  {
   "cell_type": "markdown",
   "metadata": {},
   "source": [
    "## Load all brain images"
   ]
  },
  {
   "cell_type": "code",
   "execution_count": null,
   "metadata": {},
   "outputs": [],
   "source": [
    "def load_all_brain_images(brain_images, downscale_factor):\n",
    "    \"\"\"Load all brain images\n",
    "    \n",
    "    Args:\n",
    "        brain_images (dict): Dictionary mapping animal IDs to file paths\n",
    "        downscale_factor (float): Factor to downscale the images\n",
    "        \n",
    "    Returns:\n",
    "        dict: Dictionary mapping animal IDs to preprocessed images\n",
    "    \"\"\"\n",
    "    loaded_images = {}\n",
    "    \n",
    "    for animal_id, file_path in tqdm(brain_images.items(), desc=\"Loading images\"):\n",
    "        loaded_images[animal_id] = load_and_preprocess_image(file_path, downscale_factor)\n",
    "    \n",
    "    return loaded_images\n",
    "\n",
    "# Load all brain images\n",
    "loaded_images = load_all_brain_images(brain_images, registration_settings['downscale_factor'])"
   ]
  },
  {
   "cell_type": "markdown",
   "metadata": {},
   "source": [
    "## Visualize all brain images"
   ]
  },
  {
   "cell_type": "code",
   "execution_count": null,
   "metadata": {},
   "outputs": [],
   "source": [
    "def visualize_brain_images(loaded_images):\n",
    "    \"\"\"Visualize all brain images\n",
    "    \n",
    "    Args:\n",
    "        loaded_images (dict): Dictionary mapping animal IDs to preprocessed images\n",
    "    \"\"\"\n",
    "    num_images = len(loaded_images)\n",
    "    cols = min(3, num_images)\n",
    "    rows = (num_images + cols - 1) // cols\n",
    "    \n",
    "    plt.figure(figsize=(15, 5 * rows))\n",
    "    \n",
    "    for i, (animal_id, img) in enumerate(loaded_images.items()):\n",
    "        plt.subplot(rows, cols, i+1)\n",
    "        plt.imshow(img, cmap='gray')\n",
    "        plt.title(animal_id)\n",
    "        plt.axis('off')\n",
    "    \n",
    "    plt.tight_layout()\n",
    "    plt.show()\n",
    "\n",
    "# Visualize all brain images\n",
    "visualize_brain_images(loaded_images)"
   ]
  },
  {
   "cell_type": "markdown",
   "metadata": {},
   "source": [
    "## Register brain images using pirt"
   ]
  },
  {
   "cell_type": "code",
   "execution_count": null,
   "metadata": {},
   "outputs": [],
   "source": [
    "def register_brain_images(images, settings):\n",
    "    \"\"\"Register brain images using pirt's DiffeomorphicDemonsRegistration\n",
    "    \n",
    "    Args:\n",
    "        images (dict): Dictionary mapping animal IDs to preprocessed images\n",
    "        settings (dict): Registration settings\n",
    "        \n",
    "    Returns:\n",
    "        tuple: (registration object, deformation fields, transformed images)\n",
    "    \"\"\"\n",
    "    # Convert dictionary to list in a consistent order\n",
    "    animal_ids = list(images.keys())\n",
    "    image_list = [images[animal_id] for animal_id in animal_ids]\n",
    "    \n",
    "    # Create registration object\n",
    "    print(f\"Registering {len(image_list)} images...\")\n",
    "    reg = pirt.DiffeomorphicDemonsRegistration(*image_list)\n",
    "    \n",
    "    # Set registration parameters\n",
    "    reg.params.grid_sampling_factor = settings['grid_sampling_factor']\n",
    "    reg.params.scale_sampling = settings['scale_sampling']\n",
    "    reg.params.speed_factor = settings['speed_factor']\n",
    "    \n",
    "    # Perform registration\n",
    "    reg.register(verbose=1)\n",
    "    \n",
    "    # Get deformation fields and transformed images\n",
    "    deforms = []\n",
    "    transformed_images = {}\n",
    "    \n",
    "    for i, animal_id in enumerate(animal_ids):\n",
    "        # Get deformation field\n",
    "        deform = reg.get_deform(i)\n",
    "        deforms.append(deform)\n",
    "        \n",
    "        # Transform image\n",
    "        transformed = deform.apply_deformation(image_list[i])\n",
    "        transformed_images[animal_id] = transformed\n",
    "    \n",
    "    return reg, deforms, transformed_images\n",
    "\n",
    "# Register brain images\n",
    "reg, deforms, transformed_images = register_brain_images(loaded_images, registration_settings)"
   ]
  },
  {
   "cell_type": "markdown",
   "metadata": {},
   "source": [
    "## Visualize registration results"
   ]
  },
  {
   "cell_type": "code",
   "execution_count": null,
   "metadata": {},
   "outputs": [],
   "source": [
    "def visualize_registration_results(original_images, transformed_images):\n",
    "    \"\"\"Visualize registration results\n",
    "    \n",
    "    Args:\n",
    "        original_images (dict): Dictionary mapping animal IDs to original images\n",
    "        transformed_images (dict): Dictionary mapping animal IDs to transformed images\n",
    "    \"\"\"\n",
    "    num_images = len(original_images)\n",
    "    animal_ids = list(original_images.keys())\n",
    "    \n",
    "    plt.figure(figsize=(15, 5 * num_images))\n",
    "    \n",
    "    for i, animal_id in enumerate(animal_ids):\n",
    "        # Original image\n",
    "        plt.subplot(num_images, 3, i*3+1)\n",
    "        plt.imshow(original_images[animal_id], cmap='gray')\n",
    "        plt.title(f\"{animal_id} - Original\")\n",
    "        plt.axis('off')\n",
    "        \n",
    "        # Transformed image\n",
    "        plt.subplot(num_images, 3, i*3+2)\n",
    "        plt.imshow(transformed_images[animal_id], cmap='gray')\n",
    "        plt.title(f\"{animal_id} - Registered\")\n",
    "        plt.axis('off')\n",
    "        \n",
    "        # Difference image\n",
    "        plt.subplot(num_images, 3, i*3+3)\n",
    "        diff = np.abs(original_images[animal_id] - transformed_images[animal_id])\n",
    "        plt.imshow(diff, cmap='hot', vmin=0, vmax=0.5)\n",
    "        plt.title(f\"{animal_id} - Difference\")\n",
    "        plt.axis('off')\n",
    "        plt.colorbar()\n",
    "    \n",
    "    plt.tight_layout()\n",
    "    plt.show()\n",
    "\n",
    "# Visualize registration results\n",
    "visualize_registration_results(loaded_images, transformed_images)"
   ]
  },
  {
   "cell_type": "markdown",
   "metadata": {},
   "source": [
    "## Calculate average brain template"
   ]
  },
  {
   "cell_type": "code",
   "execution_count": null,
   "metadata": {},
   "outputs": [],
   "source": [
    "def calculate_average_template(transformed_images):\n",
    "    \"\"\"Calculate average brain template from registered images\n",
    "    \n",
    "    Args:\n",
    "        transformed_images (dict): Dictionary mapping animal IDs to transformed images\n",
    "        \n",
    "    Returns:\n",
    "        np.ndarray: Average brain template\n",
    "    \"\"\"\n",
    "    # Stack all transformed images\n",
    "    image_stack = np.stack(list(transformed_images.values()))\n",
    "    \n",
    "    # Calculate average\n",
    "    template = np.mean(image_stack, axis=0)\n",
    "    \n",
    "    return template\n",
    "\n",
    "# Calculate average template\n",
    "template = calculate_average_template(transformed_images)\n",
    "\n",
    "# Display template\n",
    "plt.figure(figsize=(10, 8))\n",
    "plt.imshow(template, cmap='gray')\n",
    "plt.title(\"Average Brain Template\")\n",
    "plt.colorbar()\n",
    "plt.show()"
   ]
  },
  {
   "cell_type": "markdown",
   "metadata": {},
   "source": [
    "## Save registration results"
   ]
  },
  {
   "cell_type": "code",
   "execution_count": null,
   "metadata": {},
   "outputs": [],
   "source": "def save_registration_results(transformed_images, template, output_dir):\n    \"\"\"Save registration results\n    \n    Args:\n        transformed_images (dict): Dictionary mapping animal IDs to transformed images\n        template (np.ndarray): Average brain template\n        output_dir (Path): Path to the output directory\n    \"\"\"\n    # Create output directory if it doesn't exist\n    output_dir.mkdir(parents=True, exist_ok=True)\n    \n    # Save template\n    template_path = output_dir / 'template.tif'\n    tifffile.imwrite(template_path, template)\n    print(f\"Saved template to {template_path}\")\n    \n    # Save transformed images\n    for animal_id, img in transformed_images.items():\n        img_path = output_dir / f\"{animal_id}_registered.tif\"\n        tifffile.imwrite(img_path, img)\n        print(f\"Saved {animal_id} to {img_path}\")\n\n# Create output directory\noutput_dir = data_dir / 'registration_results'\n\n# Save registration results\nsave_registration_results(transformed_images, template, output_dir)"
  }
 ],
 "metadata": {
  "kernelspec": {
   "display_name": "“expand-py39”",
   "language": "python",
   "name": "expand"
  },
  "language_info": {
   "codemirror_mode": {
    "name": "ipython",
    "version": 3
   },
   "file_extension": ".py",
   "mimetype": "text/x-python",
   "name": "python",
   "nbconvert_exporter": "python",
   "pygments_lexer": "ipython3",
   "version": "3.9.9"
  }
 },
 "nbformat": 4,
 "nbformat_minor": 4
}