{
 "cells": [
  {
   "cell_type": "code",
   "execution_count": 1,
   "metadata": {},
   "outputs": [],
   "source": [
    "import os\n",
    "import sys\n",
    "import subprocess\n",
    "import numpy as np\n",
    "import itk\n",
    "# Add the 'src' folder to the Python path\n",
    "sys.path.append(os.path.abspath('../'))\n",
    "from src.DELAT_utils import match_h5_files_by_channels, setup_logging, collect_region_stats_paths\n",
    "from src.registration import register_and_transform\n",
    "from src.stats import compute_region_stats\n",
    "import logging"
   ]
  },
  {
   "cell_type": "markdown",
   "metadata": {},
   "source": [
    "# single animal"
   ]
  },
  {
   "cell_type": "code",
   "execution_count": 2,
   "metadata": {},
   "outputs": [],
   "source": [
    "animal = 'ANM549865_JFX673'\n",
    "base_dir = '/nrs/spruston/Boaz/I2/20240930_iDISCO_round2/'"
   ]
  },
  {
   "cell_type": "code",
   "execution_count": 11,
   "metadata": {},
   "outputs": [],
   "source": [
    "animal = 'ANM550749_left_JF552'\n",
    "base_dir = '/nrs/spruston/Boaz/I2/2024-09-19_iDISCO_CalibrationBrains'"
   ]
  },
  {
   "cell_type": "code",
   "execution_count": 3,
   "metadata": {},
   "outputs": [],
   "source": [
    "# Set the parameters manually here\n",
    "\n",
    "fx_path = '/nrs/spruston/Boaz/I2/atlas10_hemi.tif'\n",
    "param_files_dir = '/nrs/spruston/Boaz/I2/itk'\n",
    "annotation_path = '/nrs/spruston/Boaz/I2/annotation_10_hemi.nii'"
   ]
  },
  {
   "cell_type": "code",
   "execution_count": 12,
   "metadata": {},
   "outputs": [
    {
     "name": "stderr",
     "output_type": "stream",
     "text": [
      "2024-10-01 00:07:39 - INFO - Logging initialized for animal processing.\n",
      "INFO:ANM549865_JFX673:Logging initialized for animal processing.\n",
      "2024-10-01 00:07:39 - INFO - Loading fixed image (fx) from /nrs/spruston/Boaz/I2/atlas10_hemi.tif.\n",
      "INFO:ANM549865_JFX673:Loading fixed image (fx) from /nrs/spruston/Boaz/I2/atlas10_hemi.tif.\n",
      "TIFFReadDirectory: Warning, Unknown field with tag 50838 (0xc696) encountered.\n",
      "TIFFReadDirectory: Warning, Unknown field with tag 50839 (0xc697) encountered2024-10-01 00:07:40 - INFO - Loaded parameter files from /nrs/spruston/Boaz/I2/itk.\n",
      ".\n",
      "TIFFReadDirectory: Warning, Unknown field with tag 50838 (0xc696) encountered.\n",
      "TIFFReadDirectory: Warning, Unknown field with tag 50839 (0xc697) encountered.\n",
      "TIFFReadDirectory: Warning, Unknown field with tag 50838 (0xc696) encountered.\n",
      "TIFFReadDirectory: Warning, Unknown field with tag 50839 (0xc697) encountered.\n",
      "TIFFReadDirectory: Warning, Unknown field with tag 50838 (0xc696) encountered.\n",
      "TIFFReadDirectory: Warning, Unknown field with tag 50839 (0xc697) encountered.\n",
      "INFO:ANM549865_JFX673:Loaded parameter files from /nrs/spruston/Boaz/I2/itk.\n"
     ]
    }
   ],
   "source": [
    "logger = setup_logging(base_dir, animal)\n",
    "# Load the fixed image (fx)\n",
    "logger.info(f\"Loading fixed image (fx) from {fx_path}.\")\n",
    "fx = itk.imread(fx_path, pixel_type=itk.US)\n",
    "\n",
    "# Load the parameter files\n",
    "param_files = [\n",
    "    os.path.join(param_files_dir, 'Order1_Par0000affine.txt'),\n",
    "    os.path.join(param_files_dir, 'Order3_Par0000bspline.txt'),\n",
    "    os.path.join(param_files_dir, 'Order4_Par0000bspline.txt'),\n",
    "    os.path.join(param_files_dir, 'Order5_Par0000bspline.txt')\n",
    "]\n",
    "logger.info(f\"Loaded parameter files from {param_files_dir}.\")\n",
    "\n"
   ]
  },
  {
   "cell_type": "code",
   "execution_count": 5,
   "metadata": {},
   "outputs": [
    {
     "data": {
      "text/plain": [
       "(dtype('uint64'), (800, 1320, 658))"
      ]
     },
     "execution_count": 5,
     "metadata": {},
     "output_type": "execute_result"
    }
   ],
   "source": [
    "# Load the annotation volume\n",
    "logger.info(f\"Loading annotation volume from {annotation_path}.\")\n",
    "itk_annotation = itk.imread(annotation_path, itk.ULL)\n",
    "annotation_np = itk.array_view_from_image(itk_annotation)\n",
    "annotation_np.dtype, annotation_np.shape\n"
   ]
  },
  {
   "cell_type": "code",
   "execution_count": 6,
   "metadata": {},
   "outputs": [],
   "source": [
    "# Match H5 files by channels for all animals\n",
    "logger.info(f\"Matching H5 files in {base_dir}.\")\n",
    "animals_files = match_h5_files_by_channels(base_dir)"
   ]
  },
  {
   "cell_type": "code",
   "execution_count": 7,
   "metadata": {},
   "outputs": [
    {
     "data": {
      "text/plain": [
       "{'ANM549865_JFX673': {'ch0': '/nrs/spruston/Boaz/I2/20240930_iDISCO_round2/ANM549865_JFX673/uni_tp-0_ch-0_st-0-x00-y00_obj-right_cam-long_etc.lux.h5',\n",
       "  'ch1': '/nrs/spruston/Boaz/I2/20240930_iDISCO_round2/ANM549865_JFX673/uni_tp-0_ch-1_st-0-x00-y00_obj-right_cam-long_etc.lux.h5',\n",
       "  'ch2': '/nrs/spruston/Boaz/I2/20240930_iDISCO_round2/ANM549865_JFX673/uni_tp-0_ch-2_st-0-x00-y00_obj-right_cam-long_etc.lux.h5'}}"
      ]
     },
     "execution_count": 7,
     "metadata": {},
     "output_type": "execute_result"
    }
   ],
   "source": [
    "animals_files"
   ]
  },
  {
   "cell_type": "code",
   "execution_count": 8,
   "metadata": {},
   "outputs": [
    {
     "data": {
      "text/plain": [
       "{'ch0': '/nrs/spruston/Boaz/I2/20240930_iDISCO_round2/ANM549865_JFX673/uni_tp-0_ch-0_st-0-x00-y00_obj-right_cam-long_etc.lux.h5',\n",
       " 'ch1': '/nrs/spruston/Boaz/I2/20240930_iDISCO_round2/ANM549865_JFX673/uni_tp-0_ch-1_st-0-x00-y00_obj-right_cam-long_etc.lux.h5',\n",
       " 'ch2': '/nrs/spruston/Boaz/I2/20240930_iDISCO_round2/ANM549865_JFX673/uni_tp-0_ch-2_st-0-x00-y00_obj-right_cam-long_etc.lux.h5'}"
      ]
     },
     "execution_count": 8,
     "metadata": {},
     "output_type": "execute_result"
    }
   ],
   "source": [
    "# Get the files for the selected animal\n",
    "files = animals_files.get(animal)\n",
    "files"
   ]
  },
  {
   "cell_type": "code",
   "execution_count": 9,
   "metadata": {},
   "outputs": [],
   "source": [
    "output_dir = os.path.join(base_dir, animal, 'itk')  # Ensure logs and outputs go to /itk\n",
    "# Create the output directory if it doesn't exist\n",
    "os.makedirs(output_dir, exist_ok=True)\n",
    "logger.info(f\"Using output dir: {output_dir}\")"
   ]
  },
  {
   "cell_type": "code",
   "execution_count": null,
   "metadata": {},
   "outputs": [
    {
     "name": "stderr",
     "output_type": "stream",
     "text": [
      "2024-10-01 00:07:55 - INFO - Starting registration and transformation.\n",
      "INFO:ANM549865_JFX673:Starting registration and transformation.\n",
      "2024-10-01 00:07:55 - INFO - Register_and_transform started, set ITK to use 128 threads.\n",
      "INFO:ANM549865_JFX673:Register_and_transform started, set ITK to use 128 threads.\n",
      "2024-10-01 00:08:04 - INFO - Moving image read from  /nrs/spruston/Boaz/I2/20240930_iDISCO_round2/ANM549865_JFX673/uni_tp-0_ch-0_st-0-x00-y00_obj-right_cam-long_etc.lux.h5\n",
      "INFO:ANM549865_JFX673:Moving image read from  /nrs/spruston/Boaz/I2/20240930_iDISCO_round2/ANM549865_JFX673/uni_tp-0_ch-0_st-0-x00-y00_obj-right_cam-long_etc.lux.h5\n",
      "2024-10-01 00:08:14 - INFO - param files read\n",
      "INFO:ANM549865_JFX673:param files read\n"
     ]
    }
   ],
   "source": [
    "# Step 1: Register and Transform\n",
    "logger.info(\"Starting registration and transformation.\")\n",
    "register_and_transform(fx, files, output_dir, param_files,logger )\n",
    "logger.info(\"Finished registration and transformation.\")"
   ]
  },
  {
   "cell_type": "code",
   "execution_count": null,
   "metadata": {},
   "outputs": [],
   "source": [
    "# Step 2: Compute Region Statistics\n",
    "logger.info(\"Starting computation of region statistics.\")\n",
    "funcs = [np.mean, np.median, np.std]\n",
    "num_cores = os.cpu_count()  # Automatically detect the number of cores\n",
    "df_stats = compute_region_stats(files, output_dir, annotation_np, funcs, num_cores)\n",
    "logging.info(\"Finished computation of region statistics.\")"
   ]
  },
  {
   "cell_type": "code",
   "execution_count": null,
   "metadata": {},
   "outputs": [],
   "source": [
    "# Log the location of the logs and output files\n",
    "log_file = os.path.join(output_dir, f'registration_log_{animal}.txt')\n",
    "logging.info(f\"Processing logs and outputs are saved in: {log_file}\")"
   ]
  },
  {
   "cell_type": "code",
   "execution_count": null,
   "metadata": {},
   "outputs": [],
   "source": []
  },
  {
   "cell_type": "markdown",
   "metadata": {},
   "source": [
    "# Multiple animals locally"
   ]
  },
  {
   "cell_type": "code",
   "execution_count": 1,
   "metadata": {},
   "outputs": [],
   "source": [
    "animals = ['ANM549865_JFX673']\n",
    "\n",
    "animal = 'ANM549865_JFX673'\n",
    "base_dir = '/nrs/spruston/Boaz/I2/20240930_iDISCO_round2/'\n",
    "fx_path = '/nrs/spruston/Boaz/I2/atlas10_hemi.tif'\n",
    "param_files_dir = '/nrs/spruston/Boaz/I2/itk'\n",
    "annotation_path = '/nrs/spruston/Boaz/I2/annotation_10_hemi.nii'"
   ]
  },
  {
   "cell_type": "code",
   "execution_count": 4,
   "metadata": {},
   "outputs": [],
   "source": [
    "animals = ['ANM549057_left_JF522','ANM550749_left_JF552', \n",
    "           'ANM550751_left_JF673', 'ANM551089_left_JF673']\n",
    "base_dir = '/nrs/spruston/Boaz/I2/2024-09-19_iDISCO_CalibrationBrains'\n",
    "fx_path = '/nrs/spruston/Boaz/I2/atlas10_hemi.tif'\n",
    "param_files_dir = '/nrs/spruston/Boaz/I2/itk'\n",
    "annotation_path = '/nrs/spruston/Boaz/I2/annotation_10_hemi.nii'"
   ]
  },
  {
   "cell_type": "code",
   "execution_count": 5,
   "metadata": {},
   "outputs": [
    {
     "data": {
      "text/plain": [
       "(dtype('uint64'), (800, 1320, 658))"
      ]
     },
     "execution_count": 5,
     "metadata": {},
     "output_type": "execute_result"
    }
   ],
   "source": [
    "# Load the annotation volume\n",
    "logging.info(f\"Loading annotation volume from {annotation_path}.\")\n",
    "itk_annotation = itk.imread(annotation_path, itk.ULL)\n",
    "annotation_np = itk.array_view_from_image(itk_annotation)\n",
    "annotation_np.dtype, annotation_np.shape\n"
   ]
  },
  {
   "cell_type": "code",
   "execution_count": 6,
   "metadata": {},
   "outputs": [],
   "source": [
    "# Match H5 files by channels for all animals\n",
    "logging.info(f\"Matching H5 files in {base_dir}.\")\n",
    "animals_files = match_h5_files_by_channels(base_dir)"
   ]
  },
  {
   "cell_type": "code",
   "execution_count": 7,
   "metadata": {},
   "outputs": [
    {
     "name": "stderr",
     "output_type": "stream",
     "text": [
      "INFO:ANM549057_left_JF522:Logging initialized for animal processing.\n",
      "TIFFReadDirectory: Warning, Unknown field with tag 50838 (0xc696) encountered.\n",
      "TIFFReadDirectory: Warning, Unknown field with tag 50839 (0xc697) encountered.\n",
      "TIFFReadDirectory: Warning, Unknown field with tag 50838 (0xc696) encountered.\n",
      "TIFFReadDirectory: Warning, Unknown field with tag 50839 (0xc697) encountered.\n",
      "TIFFReadDirectory: Warning, Unknown field with tag 50838 (0xc696) encountered.\n",
      "TIFFReadDirectory: Warning, Unknown field with tag 50839 (0xc697) encountered.\n",
      "TIFFReadDirectory: Warning, Unknown field with tag 50838 (0xc696) encountered.\n",
      "TIFFReadDirectory: Warning, Unknown field with tag 50839 (0xc697) encountered.\n"
     ]
    },
    {
     "name": "stdout",
     "output_type": "stream",
     "text": [
      "[<function mean at 0x14e76d0fb870>, <function median at 0x14e76d048ef0>, <function std at 0x14e76d0fba30>]\n"
     ]
    },
    {
     "name": "stderr",
     "output_type": "stream",
     "text": [
      "Processing labels: 100%|███████████████████████████████████████████████████████████| 687/687 [00:58<00:00, 11.83label/s]\n",
      "INFO:ANM550749_left_JF552:Logging initialized for animal processing.\n"
     ]
    },
    {
     "name": "stdout",
     "output_type": "stream",
     "text": [
      "Region statistics saved to /nrs/spruston/Boaz/I2/2024-09-19_iDISCO_CalibrationBrains/ANM549057_left_JF522/itk/region_stats.csv\n"
     ]
    },
    {
     "name": "stderr",
     "output_type": "stream",
     "text": [
      "TIFFReadDirectory: Warning, Unknown field with tag 50838 (0xc696) encountered.\n",
      "TIFFReadDirectory: Warning, Unknown field with tag 50839 (0xc697) encountered.\n",
      "TIFFReadDirectory: Warning, Unknown field with tag 50838 (0xc696) encountered.\n",
      "TIFFReadDirectory: Warning, Unknown field with tag 50839 (0xc697) encountered.\n",
      "TIFFReadDirectory: Warning, Unknown field with tag 50838 (0xc696) encountered.\n",
      "TIFFReadDirectory: Warning, Unknown field with tag 50839 (0xc697) encountered.\n",
      "TIFFReadDirectory: Warning, Unknown field with tag 50838 (0xc696) encountered.\n",
      "TIFFReadDirectory: Warning, Unknown field with tag 50839 (0xc697) encountered.\n"
     ]
    },
    {
     "name": "stdout",
     "output_type": "stream",
     "text": [
      "[<function mean at 0x14e76d0fb870>, <function median at 0x14e76d048ef0>, <function std at 0x14e76d0fba30>]\n"
     ]
    },
    {
     "name": "stderr",
     "output_type": "stream",
     "text": [
      "Processing labels: 100%|███████████████████████████████████████████████████████████| 687/687 [00:58<00:00, 11.75label/s]\n",
      "INFO:ANM550751_left_JF673:Logging initialized for animal processing.\n"
     ]
    },
    {
     "name": "stdout",
     "output_type": "stream",
     "text": [
      "Region statistics saved to /nrs/spruston/Boaz/I2/2024-09-19_iDISCO_CalibrationBrains/ANM550749_left_JF552/itk/region_stats.csv\n"
     ]
    },
    {
     "name": "stderr",
     "output_type": "stream",
     "text": [
      "TIFFReadDirectory: Warning, Unknown field with tag 50838 (0xc696) encountered.\n",
      "TIFFReadDirectory: Warning, Unknown field with tag 50839 (0xc697) encountered.\n",
      "TIFFReadDirectory: Warning, Unknown field with tag 50838 (0xc696) encountered.\n",
      "TIFFReadDirectory: Warning, Unknown field with tag 50839 (0xc697) encountered.\n",
      "TIFFReadDirectory: Warning, Unknown field with tag 50838 (0xc696) encountered.\n",
      "TIFFReadDirectory: Warning, Unknown field with tag 50839 (0xc697) encountered.\n",
      "TIFFReadDirectory: Warning, Unknown field with tag 50838 (0xc696) encountered.\n",
      "TIFFReadDirectory: Warning, Unknown field with tag 50839 (0xc697) encountered.\n"
     ]
    },
    {
     "name": "stdout",
     "output_type": "stream",
     "text": [
      "[<function mean at 0x14e76d0fb870>, <function median at 0x14e76d048ef0>, <function std at 0x14e76d0fba30>]\n"
     ]
    },
    {
     "name": "stderr",
     "output_type": "stream",
     "text": [
      "Processing labels: 100%|███████████████████████████████████████████████████████████| 687/687 [00:58<00:00, 11.79label/s]\n",
      "INFO:ANM551089_left_JF673:Logging initialized for animal processing.\n"
     ]
    },
    {
     "name": "stdout",
     "output_type": "stream",
     "text": [
      "Region statistics saved to /nrs/spruston/Boaz/I2/2024-09-19_iDISCO_CalibrationBrains/ANM550751_left_JF673/itk/region_stats.csv\n"
     ]
    },
    {
     "name": "stderr",
     "output_type": "stream",
     "text": [
      "TIFFReadDirectory: Warning, Unknown field with tag 50838 (0xc696) encountered.\n",
      "TIFFReadDirectory: Warning, Unknown field with tag 50839 (0xc697) encountered.\n",
      "TIFFReadDirectory: Warning, Unknown field with tag 50838 (0xc696) encountered.\n",
      "TIFFReadDirectory: Warning, Unknown field with tag 50839 (0xc697) encountered.\n",
      "TIFFReadDirectory: Warning, Unknown field with tag 50838 (0xc696) encountered.\n",
      "TIFFReadDirectory: Warning, Unknown field with tag 50839 (0xc697) encountered.\n",
      "TIFFReadDirectory: Warning, Unknown field with tag 50838 (0xc696) encountered.\n",
      "TIFFReadDirectory: Warning, Unknown field with tag 50839 (0xc697) encountered.\n"
     ]
    },
    {
     "name": "stdout",
     "output_type": "stream",
     "text": [
      "[<function mean at 0x14e76d0fb870>, <function median at 0x14e76d048ef0>, <function std at 0x14e76d0fba30>]\n"
     ]
    },
    {
     "name": "stderr",
     "output_type": "stream",
     "text": [
      "Processing labels: 100%|███████████████████████████████████████████████████████████| 687/687 [00:58<00:00, 11.74label/s]\n"
     ]
    },
    {
     "name": "stdout",
     "output_type": "stream",
     "text": [
      "Region statistics saved to /nrs/spruston/Boaz/I2/2024-09-19_iDISCO_CalibrationBrains/ANM551089_left_JF673/itk/region_stats.csv\n"
     ]
    }
   ],
   "source": [
    "for animal in animals:\n",
    "    setup_logging(base_dir, animal)\n",
    "    # Load the fixed image (fx)\n",
    "    logging.info(f\"Loading fixed image (fx) from {fx_path}.\")\n",
    "    fx = itk.imread(fx_path, pixel_type=itk.US)\n",
    "\n",
    "    # Load the parameter files\n",
    "    param_files = [\n",
    "        os.path.join(param_files_dir, 'Order1_Par0000affine.txt'),\n",
    "        os.path.join(param_files_dir, 'Order3_Par0000bspline.txt'),\n",
    "        os.path.join(param_files_dir, 'Order4_Par0000bspline.txt'),\n",
    "        os.path.join(param_files_dir, 'Order5_Par0000bspline.txt')\n",
    "    ]\n",
    "    logging.info(f\"Loaded parameter files from {param_files_dir}.\")\n",
    "    # Get the files for the selected animal\n",
    "    files = animals_files.get(animal)\n",
    "    output_dir = os.path.join(base_dir, animal, 'itk')  # Ensure logs and outputs go to /itk\n",
    "    # Create the output directory if it doesn't exist\n",
    "    os.makedirs(output_dir, exist_ok=True)\n",
    "    logging.info(f\"Using output dir: {output_dir}\")\n",
    "    logging.info(\"Starting computation of region statistics.\")\n",
    "    funcs = [np.mean, np.median, np.std]\n",
    "    num_cores = os.cpu_count()  # Automatically detect the number of cores\n",
    "    df_stats = compute_region_stats(files, output_dir, annotation_np, funcs, num_cores)"
   ]
  },
  {
   "cell_type": "code",
   "execution_count": 8,
   "metadata": {},
   "outputs": [],
   "source": []
  },
  {
   "cell_type": "code",
   "execution_count": 9,
   "metadata": {},
   "outputs": [],
   "source": [
    "paths = collect_region_stats_paths('/nrs/spruston/Boaz/I2/')"
   ]
  },
  {
   "cell_type": "code",
   "execution_count": 10,
   "metadata": {},
   "outputs": [
    {
     "data": {
      "text/plain": [
       "{'555600': '/nrs/spruston/Boaz/I2/2024-09-09_Compare_iDISCO_EZCleat_THF/ANM555600_PSD-HT_iDISCO/itk/region_stats.csv',\n",
       " '549057': '/nrs/spruston/Boaz/I2/2024-09-19_iDISCO_CalibrationBrains/ANM549057_left_JF522/itk/region_stats.csv',\n",
       " '550749': '/nrs/spruston/Boaz/I2/2024-09-19_iDISCO_CalibrationBrains/ANM550749_left_JF552/itk/region_stats.csv',\n",
       " '550751': '/nrs/spruston/Boaz/I2/2024-09-19_iDISCO_CalibrationBrains/ANM550751_left_JF673/itk/region_stats.csv',\n",
       " '551089': '/nrs/spruston/Boaz/I2/2024-09-19_iDISCO_CalibrationBrains/ANM551089_left_JF673/itk/region_stats.csv'}"
      ]
     },
     "execution_count": 10,
     "metadata": {},
     "output_type": "execute_result"
    }
   ],
   "source": [
    "paths"
   ]
  },
  {
   "cell_type": "code",
   "execution_count": null,
   "metadata": {},
   "outputs": [],
   "source": []
  },
  {
   "cell_type": "markdown",
   "metadata": {},
   "source": [
    "# Multiple animals using bsub"
   ]
  },
  {
   "cell_type": "code",
   "execution_count": 8,
   "metadata": {},
   "outputs": [],
   "source": [
    "# Define parameters\n",
    "# base_dir = '/nrs/spruston/Boaz/I2/2024-09-19_iDISCO_CalibrationBrains'\n",
    "\n",
    "# base_dir = '/nrs/spruston/Boaz/I2/20240930_iDISCO_round2/'\n",
    "base_dir = '/nrs/spruston/Boaz/I2/20241023_iDisco_Run3_mousecity/'\n",
    "fx = '/nrs/spruston/Boaz/I2/atlas10_hemi.tif'\n",
    "param_files_dir = '/nrs/spruston/Boaz/I2/itk'\n",
    "annotation_np = '/nrs/spruston/Boaz/I2/annotation_10_hemi.nii'\n",
    "python_script = os.path.abspath('../src/main.py')\n",
    "python_executable = sys.executable\n",
    "num_cores = 64"
   ]
  },
  {
   "cell_type": "code",
   "execution_count": 9,
   "metadata": {},
   "outputs": [
    {
     "data": {
      "text/plain": [
       "{'ANM551775': {'ch0': '/nrs/spruston/Boaz/I2/20241023_iDisco_Run3_mousecity/ANM551775/uni_tp-0_ch-0_st-0-x00-y00_obj-right_cam-long_etc.lux.h5',\n",
       "  'ch1': '/nrs/spruston/Boaz/I2/20241023_iDisco_Run3_mousecity/ANM551775/uni_tp-0_ch-1_st-0-x00-y00_obj-right_cam-long_etc.lux.h5',\n",
       "  'ch2': '/nrs/spruston/Boaz/I2/20241023_iDisco_Run3_mousecity/ANM551775/uni_tp-0_ch-2_st-0-x00-y00_obj-right_cam-long_etc.lux.h5'},\n",
       " 'ANM551777': {'ch0': '/nrs/spruston/Boaz/I2/20241023_iDisco_Run3_mousecity/ANM551777/uni_tp-0_ch-0_st-0-x00-y00_obj-right_cam-long_etc.lux.h5',\n",
       "  'ch1': '/nrs/spruston/Boaz/I2/20241023_iDisco_Run3_mousecity/ANM551777/uni_tp-0_ch-1_st-0-x00-y00_obj-right_cam-long_etc.lux.h5',\n",
       "  'ch2': '/nrs/spruston/Boaz/I2/20241023_iDisco_Run3_mousecity/ANM551777/uni_tp-0_ch-2_st-0-x00-y00_obj-right_cam-long_etc.lux.h5'}}"
      ]
     },
     "execution_count": 9,
     "metadata": {},
     "output_type": "execute_result"
    }
   ],
   "source": [
    "\n",
    "animals_files = match_h5_files_by_channels(base_dir)\n",
    "animals_files"
   ]
  },
  {
   "cell_type": "code",
   "execution_count": 10,
   "metadata": {},
   "outputs": [
    {
     "data": {
      "text/plain": [
       "'/groups/spruston/home/moharb/DELTA_iDISCO/logs'"
      ]
     },
     "execution_count": 10,
     "metadata": {},
     "output_type": "execute_result"
    }
   ],
   "source": [
    "logs_dir = os.path.abspath('../logs')\n",
    "src_dir = os.path.abspath('../')\n",
    "# Create the logs directory if it doesn't exist\n",
    "os.makedirs(logs_dir, exist_ok=True)\n",
    "logs_dir"
   ]
  },
  {
   "cell_type": "code",
   "execution_count": 11,
   "metadata": {},
   "outputs": [],
   "source": [
    "\n",
    "animals = ['ANM551775']\n"
   ]
  },
  {
   "cell_type": "code",
   "execution_count": 12,
   "metadata": {
    "tags": []
   },
   "outputs": [
    {
     "name": "stdout",
     "output_type": "stream",
     "text": [
      "Submitting job for animal: ANM551775\n",
      "['bsub', '-J', 'job_ANM551775', '-n', '48', '-o', '/groups/spruston/home/moharb/DELTA_iDISCO/logs/output_ANM551775.log', '-e', '/groups/spruston/home/moharb/DELTA_iDISCO/logs/error_ANM551775.log', 'bash', '-c', 'cd /groups/spruston/home/moharb/DELTA_iDISCO && /groups/spruston/home/moharb/mambaforge/envs/pyants/bin/python /groups/spruston/home/moharb/DELTA_iDISCO/src/main.py --animal ANM551775 --base_dir /nrs/spruston/Boaz/I2/20241023_iDisco_Run3_mousecity/ --fx /nrs/spruston/Boaz/I2/atlas10_hemi.tif --param_files_dir /nrs/spruston/Boaz/I2/itk --annotation_np /nrs/spruston/Boaz/I2/annotation_10_hemi.nii']\n",
      "Job <141884526> is submitted to default queue <local>.\n"
     ]
    },
    {
     "name": "stderr",
     "output_type": "stream",
     "text": [
      "This job will be billed to spruston\n"
     ]
    }
   ],
   "source": [
    "for animal in animals:\n",
    "    # Construct the log file paths\n",
    "    output_log = os.path.join(logs_dir, f'output_{animal}.log')\n",
    "    error_log = os.path.join(logs_dir, f'error_{animal}.log')\n",
    "    bsub_command = [\n",
    "        'bsub',\n",
    "        '-J', f'job_{animal}',  # Job name\n",
    "        '-n', str(num_cores),  # Number of CPU cores\n",
    "        '-o', output_log,  # Output log\n",
    "        '-e', error_log,  # Error log\n",
    "        'bash', '-c',  # Run the following as a bash command\n",
    "        f\"cd {src_dir} && {python_executable} {python_script} \"\n",
    "        f\"--animal {animal} --base_dir {base_dir} --fx {fx} \"\n",
    "        f\"--param_files_dir {param_files_dir} --annotation_np {annotation_np}\"\n",
    "    ]\n",
    "    \n",
    "    \n",
    "\n",
    "    # Submit the job to the cluster\n",
    "    print(f\"Submitting job for animal: {animal}\")\n",
    "    print(bsub_command)\n",
    "    subprocess.run(bsub_command)"
   ]
  },
  {
   "cell_type": "code",
   "execution_count": 14,
   "metadata": {},
   "outputs": [
    {
     "name": "stdout",
     "output_type": "stream",
     "text": [
      "JOBID      USER    STAT  QUEUE      FROM_HOST   EXEC_HOST   JOB_NAME   SUBMIT_TIME\n",
      "141883354  moharb  RUN   interactiv e02u30      h07u01      /bin/bash  Oct 23 13:54\n",
      "141884526  moharb  RUN   local      h07u01      48*e10u28   *ANM551775 Oct 23 16:38\n"
     ]
    }
   ],
   "source": [
    "!bjobs"
   ]
  },
  {
   "cell_type": "code",
   "execution_count": null,
   "metadata": {},
   "outputs": [],
   "source": []
  }
 ],
 "metadata": {
  "kernelspec": {
   "display_name": "pyants_311",
   "language": "python",
   "name": "pyants_311"
  },
  "language_info": {
   "codemirror_mode": {
    "name": "ipython",
    "version": 3
   },
   "file_extension": ".py",
   "mimetype": "text/x-python",
   "name": "python",
   "nbconvert_exporter": "python",
   "pygments_lexer": "ipython3",
   "version": "3.11.9"
  }
 },
 "nbformat": 4,
 "nbformat_minor": 4
}
