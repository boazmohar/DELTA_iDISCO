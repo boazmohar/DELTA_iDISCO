{
 "cells": [
  {
   "cell_type": "code",
   "execution_count": 34,
   "metadata": {},
   "outputs": [],
   "source": [
    "import os\n",
    "import sys\n",
    "import subprocess\n",
    "import numpy as np\n",
    "import itk\n",
    "# Add the 'src' folder to the Python path\n",
    "sys.path.append(os.path.abspath('../'))\n",
    "from src.DELAT_utils import match_h5_files_by_channels, setup_logging, collect_region_stats_paths\n",
    "from src.registration import register_and_transform\n",
    "from src.stats import compute_region_stats\n",
    "import logging\n",
    "from tifffile import imwrite"
   ]
  },
  {
   "cell_type": "markdown",
   "metadata": {},
   "source": [
    "# single animal"
   ]
  },
  {
   "cell_type": "code",
   "execution_count": 20,
   "metadata": {},
   "outputs": [],
   "source": [
    "animal = 'ANM543607_BM19'\n",
    "base_dir = '/nrs/spruston/Boaz/I2/2024-07-31_Mafe/'"
   ]
  },
  {
   "cell_type": "code",
   "execution_count": 2,
   "metadata": {},
   "outputs": [],
   "source": [
    "animal = 'ANM550749_left_JF552'\n",
    "base_dir = '/nrs/spruston/Boaz/I2/2024-09-19_iDISCO_CalibrationBrains'"
   ]
  },
  {
   "cell_type": "code",
   "execution_count": 21,
   "metadata": {},
   "outputs": [],
   "source": [
    "# Set the parameters manually here\n",
    "\n",
    "fx_path = '/nrs/spruston/Boaz/I2/atlas10_hemi.tif'\n",
    "param_files_dir = '/nrs/spruston/Boaz/I2/itk'\n",
    "annotation_path = '/nrs/spruston/Boaz/I2/annotation_10_hemi.nii'"
   ]
  },
  {
   "cell_type": "code",
   "execution_count": 22,
   "metadata": {},
   "outputs": [
    {
     "name": "stderr",
     "output_type": "stream",
     "text": [
      "2024-11-14 14:29:31 - INFO - Logging initialized for animal processing.\n",
      "2024-11-14 14:29:31 - INFO - Loading fixed image (fx) from /nrs/spruston/Boaz/I2/atlas10_hemi.tif.\n",
      "TIFFReadDirectory: Warning, Unknown field with tag 50838 (0xc696) encountered.\n",
      "TIFFReadDirectory: Warning, Unknown field with tag 50839 (0xc697) encountered.\n",
      "TIFFReadDirectory: Warning, Unknown field with tag 50838 (0xc696) encountered.\n",
      "TIFFReadDirectory: Warning, Unknown field with tag 50839 (0xc697) encountered.\n",
      "TIFFReadDirectory: Warning, Unknown field with tag 50838 (0xc696) encountered.\n",
      "TIFFReadDirectory: Warning, Unknown field with tag 50839 (0xc697) encountered.\n",
      "TIFFReadDirectory: Warning, Unknown field with tag 50838 (0xc696) encountered.\n",
      "TIFFReadDirectory: Warning, Unknown field with tag 50839 (0xc697) encountered.\n",
      "2024-11-14 14:29:34 - INFO - Loaded parameter files from /nrs/spruston/Boaz/I2/itk.\n"
     ]
    }
   ],
   "source": [
    "logger = setup_logging(base_dir, animal)\n",
    "# Load the fixed image (fx)\n",
    "logger.info(f\"Loading fixed image (fx) from {fx_path}.\")\n",
    "fx = itk.imread(fx_path, pixel_type=itk.US)\n",
    "\n",
    "# Load the parameter files\n",
    "param_files = [\n",
    "    os.path.join(param_files_dir, 'Order1_Par0000affine.txt'),\n",
    "    os.path.join(param_files_dir, 'Order3_Par0000bspline.txt'),\n",
    "    os.path.join(param_files_dir, 'Order4_Par0000bspline.txt'),\n",
    "    os.path.join(param_files_dir, 'Order5_Par0000bspline.txt')\n",
    "]\n",
    "logger.info(f\"Loaded parameter files from {param_files_dir}.\")\n",
    "\n"
   ]
  },
  {
   "cell_type": "code",
   "execution_count": 24,
   "metadata": {},
   "outputs": [
    {
     "name": "stdout",
     "output_type": "stream",
     "text": [
      "Original image:\n",
      " [[[ 70000      2      3]\n",
      "  [     4      5  65536]]\n",
      "\n",
      " [[ 65537 100000      7]\n",
      "  [     8      9     10]]]\n",
      "Converted image:\n",
      " [[[ 6  2  3]\n",
      "  [ 4  5  0]]\n",
      "\n",
      " [[ 1 11  7]\n",
      "  [ 8  9 10]]]\n"
     ]
    }
   ],
   "source": []
  },
  {
   "cell_type": "code",
   "execution_count": 23,
   "metadata": {},
   "outputs": [
    {
     "name": "stderr",
     "output_type": "stream",
     "text": [
      "2024-11-14 14:29:34 - INFO - Loading annotation volume from /nrs/spruston/Boaz/I2/annotation_10_hemi.nii.\n"
     ]
    },
    {
     "data": {
      "text/plain": [
       "(dtype('uint64'), (800, 1320, 658))"
      ]
     },
     "execution_count": 23,
     "metadata": {},
     "output_type": "execute_result"
    }
   ],
   "source": [
    "# Load the annotation volume\n",
    "logger.info(f\"Loading annotation volume from {annotation_path}.\")\n",
    "itk_annotation = itk.imread(annotation_path, itk.ULL)\n",
    "annotation_np = itk.array_view_from_image(itk_annotation)\n",
    "annotation_np.dtype, annotation_np.shape\n"
   ]
  },
  {
   "cell_type": "code",
   "execution_count": 25,
   "metadata": {},
   "outputs": [],
   "source": [
    "import numpy as np\n",
    "\n",
    "def convert_uint64_to_uint16(image):\n",
    "    # Maximum value for uint16\n",
    "    max_uint16 = np.iinfo(np.uint16).max\n",
    "\n",
    "    # Find unique values in the image\n",
    "    unique_values = np.unique(image)\n",
    "\n",
    "    # Identify values greater than max_uint16\n",
    "    overflow_values = unique_values[unique_values > max_uint16]\n",
    "\n",
    "    # Find all available uint16 values\n",
    "    available_uint16_values = np.setdiff1d(np.arange(max_uint16 + 1), unique_values[unique_values <= max_uint16])\n",
    "\n",
    "    # Create a dictionary to map overflow values to available uint16 values\n",
    "    if len(overflow_values) > len(available_uint16_values):\n",
    "        raise ValueError(\"Not enough available uint16 values to remap all overflow values.\")\n",
    "\n",
    "    overflow_mapping = dict(zip(overflow_values, available_uint16_values[:len(overflow_values)]))\n",
    "\n",
    "    # Apply the mapping to convert the image\n",
    "    converted_image = image.copy()\n",
    "    for overflow_value, new_value in overflow_mapping.items():\n",
    "        converted_image[converted_image == overflow_value] = new_value\n",
    "\n",
    "    # Convert to uint16\n",
    "    converted_image = converted_image.astype(np.uint16)\n",
    "    \n",
    "    return converted_image\n",
    "\n",
    "annotation_np_uint16 = convert_uint64_to_uint16(annotation_np)\n"
   ]
  },
  {
   "cell_type": "code",
   "execution_count": 32,
   "metadata": {},
   "outputs": [
    {
     "name": "stdout",
     "output_type": "stream",
     "text": [
      "Original image:\n",
      " [[[  100     2     3]\n",
      "  [    4     5 65535]]\n",
      "\n",
      " [[30000 50000     7]\n",
      "  [    8     9    10]]]\n",
      "Remapped image:\n",
      " [[[47662 35746 29789]\n",
      "  [41704 23831     1]]\n",
      "\n",
      " [[11916 17873  5958]\n",
      "  [53619 65535 59577]]]\n"
     ]
    }
   ],
   "source": [
    "import numpy as np\n",
    "\n",
    "def remap_uint16_scrambled_contrast(image):\n",
    "    # Ensure the image is uint16\n",
    "    if image.dtype != np.uint16:\n",
    "        raise ValueError(\"Input image must be of type uint16.\")\n",
    "    \n",
    "    # Find unique values in the image\n",
    "    unique_values = np.unique(image)\n",
    "    num_unique = len(unique_values)\n",
    "    \n",
    "    # Maximum value for uint16\n",
    "    max_uint16 = np.iinfo(np.uint16).max\n",
    "\n",
    "    # Generate linearly spaced values from 1 to max_uint16\n",
    "    linear_values = np.linspace(1, max_uint16, num=num_unique, dtype=np.uint16)\n",
    "    \n",
    "    # Shuffle the linear values to scramble the mapping\n",
    "    np.random.shuffle(linear_values)\n",
    "    \n",
    "    # Create a mapping dictionary with scrambled values\n",
    "    scrambled_mapping = dict(zip(unique_values, linear_values))\n",
    "    \n",
    "    # Apply the scrambled mapping to the image\n",
    "    remapped_image = np.vectorize(scrambled_mapping.get)(image)\n",
    "    \n",
    "    # Ensure output is uint16\n",
    "    remapped_image = remapped_image.astype(np.uint16)\n",
    "    \n",
    "    return remapped_image\n",
    "\n",
    "# Test the function with a sample uint16 image\n",
    "test_image = np.array([\n",
    "    [[100, 2, 3], [4, 5, 65535]],\n",
    "    [[30000, 50000, 7], [8, 9, 10]]\n",
    "], dtype=np.uint16)\n",
    "\n",
    "remapped_image = remap_uint16_scrambled_contrast(test_image)\n",
    "print(\"Original image:\\n\", test_image)\n",
    "print(\"Remapped image:\\n\", remapped_image)\n",
    "\n"
   ]
  },
  {
   "cell_type": "code",
   "execution_count": 33,
   "metadata": {},
   "outputs": [],
   "source": [
    "\n",
    "remapped_image1 = remap_uint16_scrambled_contrast(annotation_np_uint16)\n",
    "remapped_image2 = remap_uint16_scrambled_contrast(annotation_np_uint16)"
   ]
  },
  {
   "cell_type": "code",
   "execution_count": 36,
   "metadata": {
    "tags": []
   },
   "outputs": [],
   "source": [
    "imwrite('/nrs/spruston/Boaz/I2/annotation_rand1.tif', remapped_image1)"
   ]
  },
  {
   "cell_type": "code",
   "execution_count": 37,
   "metadata": {},
   "outputs": [],
   "source": [
    "imwrite('/nrs/spruston/Boaz/I2/annotation_rand2.tif', remapped_image2)"
   ]
  },
  {
   "cell_type": "code",
   "execution_count": 38,
   "metadata": {},
   "outputs": [
    {
     "data": {
      "text/plain": [
       "NDArrayITKBase([    1,    96,   191,   287,   382,   477,   573,   668,\n",
       "                  764,   859,   954,  1050,  1145,  1241,  1336,  1431,\n",
       "                 1527,  1622,  1718,  1813,  1908,  2004,  2099,  2195,\n",
       "                 2290,  2385,  2481,  2576,  2671,  2767,  2862,  2958,\n",
       "                 3053,  3148,  3244,  3339,  3435,  3530,  3625,  3721,\n",
       "                 3816,  3912,  4007,  4102,  4198,  4293,  4389,  4484,\n",
       "                 4579,  4675,  4770,  4865,  4961,  5056,  5152,  5247,\n",
       "                 5342,  5438,  5533,  5629,  5724,  5819,  5915,  6010,\n",
       "                 6106,  6201,  6296,  6392,  6487,  6583,  6678,  6773,\n",
       "                 6869,  6964,  7059,  7155,  7250,  7346,  7441,  7536,\n",
       "                 7632,  7727,  7823,  7918,  8013,  8109,  8204,  8300,\n",
       "                 8395,  8490,  8586,  8681,  8777,  8872,  8967,  9063,\n",
       "                 9158,  9253,  9349,  9444,  9540,  9635,  9730,  9826,\n",
       "                 9921, 10017, 10112, 10207, 10303, 10398, 10494, 10589,\n",
       "                10684, 10780, 10875, 10971, 11066, 11161, 11257, 11352,\n",
       "                11447, 11543, 11638, 11734, 11829, 11924, 12020, 12115,\n",
       "                12211, 12306, 12401, 12497, 12592, 12688, 12783, 12878,\n",
       "                12974, 13069, 13165, 13260, 13355, 13451, 13546, 13641,\n",
       "                13737, 13832, 13928, 14023, 14118, 14214, 14309, 14405,\n",
       "                14500, 14595, 14691, 14786, 14882, 14977, 15072, 15168,\n",
       "                15263, 15359, 15454, 15549, 15645, 15740, 15835, 15931,\n",
       "                16026, 16122, 16217, 16312, 16408, 16503, 16599, 16694,\n",
       "                16789, 16885, 16980, 17076, 17171, 17266, 17362, 17457,\n",
       "                17553, 17648, 17743, 17839, 17934, 18030, 18125, 18220,\n",
       "                18316, 18411, 18506, 18602, 18697, 18793, 18888, 18983,\n",
       "                19079, 19174, 19270, 19365, 19460, 19556, 19651, 19747,\n",
       "                19842, 19937, 20033, 20128, 20224, 20319, 20414, 20510,\n",
       "                20605, 20700, 20796, 20891, 20987, 21082, 21177, 21273,\n",
       "                21368, 21464, 21559, 21654, 21750, 21845, 21941, 22036,\n",
       "                22131, 22227, 22322, 22418, 22513, 22608, 22704, 22799,\n",
       "                22894, 22990, 23085, 23181, 23276, 23371, 23467, 23562,\n",
       "                23658, 23753, 23848, 23944, 24039, 24135, 24230, 24325,\n",
       "                24421, 24516, 24612, 24707, 24802, 24898, 24993, 25088,\n",
       "                25184, 25279, 25375, 25470, 25565, 25661, 25756, 25852,\n",
       "                25947, 26042, 26138, 26233, 26329, 26424, 26519, 26615,\n",
       "                26710, 26806, 26901, 26996, 27092, 27187, 27282, 27378,\n",
       "                27473, 27569, 27664, 27759, 27855, 27950, 28046, 28141,\n",
       "                28236, 28332, 28427, 28523, 28618, 28713, 28809, 28904,\n",
       "                29000, 29095, 29190, 29286, 29381, 29476, 29572, 29667,\n",
       "                29763, 29858, 29953, 30049, 30144, 30240, 30335, 30430,\n",
       "                30526, 30621, 30717, 30812, 30907, 31003, 31098, 31194,\n",
       "                31289, 31384, 31480, 31575, 31670, 31766, 31861, 31957,\n",
       "                32052, 32147, 32243, 32338, 32434, 32529, 32624, 32720,\n",
       "                32815, 32911, 33006, 33101, 33197, 33292, 33388, 33483,\n",
       "                33578, 33674, 33769, 33865, 33960, 34055, 34151, 34246,\n",
       "                34341, 34437, 34532, 34628, 34723, 34818, 34914, 35009,\n",
       "                35105, 35200, 35295, 35391, 35486, 35582, 35677, 35772,\n",
       "                35868, 35963, 36059, 36154, 36249, 36345, 36440, 36535,\n",
       "                36631, 36726, 36822, 36917, 37012, 37108, 37203, 37299,\n",
       "                37394, 37489, 37585, 37680, 37776, 37871, 37966, 38062,\n",
       "                38157, 38253, 38348, 38443, 38539, 38634, 38729, 38825,\n",
       "                38920, 39016, 39111, 39206, 39302, 39397, 39493, 39588,\n",
       "                39683, 39779, 39874, 39970, 40065, 40160, 40256, 40351,\n",
       "                40447, 40542, 40637, 40733, 40828, 40923, 41019, 41114,\n",
       "                41210, 41305, 41400, 41496, 41591, 41687, 41782, 41877,\n",
       "                41973, 42068, 42164, 42259, 42354, 42450, 42545, 42641,\n",
       "                42736, 42831, 42927, 43022, 43117, 43213, 43308, 43404,\n",
       "                43499, 43594, 43690, 43785, 43881, 43976, 44071, 44167,\n",
       "                44262, 44358, 44453, 44548, 44644, 44739, 44835, 44930,\n",
       "                45025, 45121, 45216, 45311, 45407, 45502, 45598, 45693,\n",
       "                45788, 45884, 45979, 46075, 46170, 46265, 46361, 46456,\n",
       "                46552, 46647, 46742, 46838, 46933, 47029, 47124, 47219,\n",
       "                47315, 47410, 47505, 47601, 47696, 47792, 47887, 47982,\n",
       "                48078, 48173, 48269, 48364, 48459, 48555, 48650, 48746,\n",
       "                48841, 48936, 49032, 49127, 49223, 49318, 49413, 49509,\n",
       "                49604, 49700, 49795, 49890, 49986, 50081, 50176, 50272,\n",
       "                50367, 50463, 50558, 50653, 50749, 50844, 50940, 51035,\n",
       "                51130, 51226, 51321, 51417, 51512, 51607, 51703, 51798,\n",
       "                51894, 51989, 52084, 52180, 52275, 52370, 52466, 52561,\n",
       "                52657, 52752, 52847, 52943, 53038, 53134, 53229, 53324,\n",
       "                53420, 53515, 53611, 53706, 53801, 53897, 53992, 54088,\n",
       "                54183, 54278, 54374, 54469, 54564, 54660, 54755, 54851,\n",
       "                54946, 55041, 55137, 55232, 55328, 55423, 55518, 55614,\n",
       "                55709, 55805, 55900, 55995, 56091, 56186, 56282, 56377,\n",
       "                56472, 56568, 56663, 56758, 56854, 56949, 57045, 57140,\n",
       "                57235, 57331, 57426, 57522, 57617, 57712, 57808, 57903,\n",
       "                57999, 58094, 58189, 58285, 58380, 58476, 58571, 58666,\n",
       "                58762, 58857, 58952, 59048, 59143, 59239, 59334, 59429,\n",
       "                59525, 59620, 59716, 59811, 59906, 60002, 60097, 60193,\n",
       "                60288, 60383, 60479, 60574, 60670, 60765, 60860, 60956,\n",
       "                61051, 61146, 61242, 61337, 61433, 61528, 61623, 61719,\n",
       "                61814, 61910, 62005, 62100, 62196, 62291, 62387, 62482,\n",
       "                62577, 62673, 62768, 62864, 62959, 63054, 63150, 63245,\n",
       "                63340, 63436, 63531, 63627, 63722, 63817, 63913, 64008,\n",
       "                64104, 64199, 64294, 64390, 64485, 64581, 64676, 64771,\n",
       "                64867, 64962, 65058, 65153, 65248, 65344, 65439, 65535],\n",
       "               dtype=uint16)"
      ]
     },
     "execution_count": 38,
     "metadata": {},
     "output_type": "execute_result"
    }
   ],
   "source": [
    "np.unique(remapped_image2)"
   ]
  },
  {
   "cell_type": "code",
   "execution_count": 6,
   "metadata": {},
   "outputs": [
    {
     "name": "stderr",
     "output_type": "stream",
     "text": [
      "2024-11-14 12:50:16 - INFO - Matching H5 files in /nrs/spruston/Boaz/I2/2024-07-31_Mafe/.\n"
     ]
    }
   ],
   "source": [
    "# Match H5 files by channels for all animals\n",
    "logger.info(f\"Matching H5 files in {base_dir}.\")\n",
    "animals_files = match_h5_files_by_channels(base_dir)"
   ]
  },
  {
   "cell_type": "code",
   "execution_count": 7,
   "metadata": {},
   "outputs": [
    {
     "data": {
      "text/plain": [
       "{'ANM542292_BM22': {'ch0': '/nrs/spruston/Boaz/I2/2024-07-31_Mafe/ANM542292_BM22/uni_tp-0_ch-0_st-0-x00-y00_obj-right_cam-long_etc.lux.h5',\n",
       "  'ch1': '/nrs/spruston/Boaz/I2/2024-07-31_Mafe/ANM542292_BM22/uni_tp-0_ch-1_st-0-x00-y00_obj-right_cam-long_etc.lux.h5',\n",
       "  'ch2': '/nrs/spruston/Boaz/I2/2024-07-31_Mafe/ANM542292_BM22/uni_tp-0_ch-2_st-0-x00-y00_obj-right_cam-long_etc.lux.h5'},\n",
       " 'ANM543603_BM21': {'ch0': '/nrs/spruston/Boaz/I2/2024-07-31_Mafe/ANM543603_BM21/uni_tp-0_ch-0_st-0-x00-y00_obj-right_cam-long_etc.lux.h5',\n",
       "  'ch1': '/nrs/spruston/Boaz/I2/2024-07-31_Mafe/ANM543603_BM21/uni_tp-0_ch-1_st-0-x00-y00_obj-right_cam-long_etc.lux.h5',\n",
       "  'ch2': '/nrs/spruston/Boaz/I2/2024-07-31_Mafe/ANM543603_BM21/uni_tp-0_ch-2_st-0-x00-y00_obj-right_cam-long_etc.lux.h5'},\n",
       " 'ANM543607_BM19': {'ch0': '/nrs/spruston/Boaz/I2/2024-07-31_Mafe/ANM543607_BM19/uni_tp-0_ch-0_st-0-x00-y00_obj-right_cam-long_etc.lux.h5',\n",
       "  'ch1': '/nrs/spruston/Boaz/I2/2024-07-31_Mafe/ANM543607_BM19/uni_tp-0_ch-1_st-0-x00-y00_obj-right_cam-long_etc.lux.h5',\n",
       "  'ch2': '/nrs/spruston/Boaz/I2/2024-07-31_Mafe/ANM543607_BM19/uni_tp-0_ch-2_st-0-x00-y00_obj-right_cam-long_etc.lux.h5'}}"
      ]
     },
     "execution_count": 7,
     "metadata": {},
     "output_type": "execute_result"
    }
   ],
   "source": [
    "animals_files"
   ]
  },
  {
   "cell_type": "code",
   "execution_count": 8,
   "metadata": {},
   "outputs": [
    {
     "data": {
      "text/plain": [
       "{'ch0': '/nrs/spruston/Boaz/I2/2024-07-31_Mafe/ANM543607_BM19/uni_tp-0_ch-0_st-0-x00-y00_obj-right_cam-long_etc.lux.h5',\n",
       " 'ch1': '/nrs/spruston/Boaz/I2/2024-07-31_Mafe/ANM543607_BM19/uni_tp-0_ch-1_st-0-x00-y00_obj-right_cam-long_etc.lux.h5',\n",
       " 'ch2': '/nrs/spruston/Boaz/I2/2024-07-31_Mafe/ANM543607_BM19/uni_tp-0_ch-2_st-0-x00-y00_obj-right_cam-long_etc.lux.h5'}"
      ]
     },
     "execution_count": 8,
     "metadata": {},
     "output_type": "execute_result"
    }
   ],
   "source": [
    "# Get the files for the selected animal\n",
    "files = animals_files.get(animal)\n",
    "files"
   ]
  },
  {
   "cell_type": "code",
   "execution_count": 9,
   "metadata": {},
   "outputs": [
    {
     "name": "stderr",
     "output_type": "stream",
     "text": [
      "2024-11-14 12:50:17 - INFO - Using output dir: /nrs/spruston/Boaz/I2/2024-07-31_Mafe/ANM543607_BM19/itk\n"
     ]
    }
   ],
   "source": [
    "output_dir = os.path.join(base_dir, animal, 'itk')  # Ensure logs and outputs go to /itk\n",
    "# Create the output directory if it doesn't exist\n",
    "os.makedirs(output_dir, exist_ok=True)\n",
    "logger.info(f\"Using output dir: {output_dir}\")"
   ]
  },
  {
   "cell_type": "code",
   "execution_count": null,
   "metadata": {},
   "outputs": [],
   "source": [
    "# Step 1: Register and Transform\n",
    "logger.info(\"Starting registration and transformation.\")\n",
    "register_and_transform(fx, files, output_dir, param_files,logger , [2])\n",
    "logger.info(\"Finished registration and transformation.\")"
   ]
  },
  {
   "cell_type": "code",
   "execution_count": null,
   "metadata": {},
   "outputs": [],
   "source": [
    "# Step 2: Compute Region Statistics\n",
    "logger.info(\"Starting computation of region statistics.\")\n",
    "funcs = [np.mean, np.median, np.std]\n",
    "num_cores = os.cpu_count()  # Automatically detect the number of cores\n",
    "df_stats = compute_region_stats(files, output_dir, annotation_np, funcs, num_cores)\n",
    "logging.info(\"Finished computation of region statistics.\")"
   ]
  },
  {
   "cell_type": "code",
   "execution_count": null,
   "metadata": {},
   "outputs": [],
   "source": [
    "# Log the location of the logs and output files\n",
    "log_file = os.path.join(output_dir, f'registration_log_{animal}.txt')\n",
    "logging.info(f\"Processing logs and outputs are saved in: {log_file}\")"
   ]
  },
  {
   "cell_type": "code",
   "execution_count": null,
   "metadata": {},
   "outputs": [],
   "source": []
  },
  {
   "cell_type": "markdown",
   "metadata": {},
   "source": [
    "# Multiple animals locally"
   ]
  },
  {
   "cell_type": "code",
   "execution_count": 1,
   "metadata": {},
   "outputs": [],
   "source": [
    "animals = ['ANM549865_JFX673']\n",
    "\n",
    "animal = 'ANM549865_JFX673'\n",
    "base_dir = '/nrs/spruston/Boaz/I2/20240930_iDISCO_round2/'\n",
    "fx_path = '/nrs/spruston/Boaz/I2/atlas10_hemi.tif'\n",
    "param_files_dir = '/nrs/spruston/Boaz/I2/itk'\n",
    "annotation_path = '/nrs/spruston/Boaz/I2/annotation_10_hemi.nii'"
   ]
  },
  {
   "cell_type": "code",
   "execution_count": 4,
   "metadata": {},
   "outputs": [],
   "source": [
    "animals = ['ANM549057_left_JF522','ANM550749_left_JF552', \n",
    "           'ANM550751_left_JF673', 'ANM551089_left_JF673']\n",
    "base_dir = '/nrs/spruston/Boaz/I2/2024-09-19_iDISCO_CalibrationBrains'\n",
    "fx_path = '/nrs/spruston/Boaz/I2/atlas10_hemi.tif'\n",
    "param_files_dir = '/nrs/spruston/Boaz/I2/itk'\n",
    "annotation_path = '/nrs/spruston/Boaz/I2/annotation_10_hemi.nii'"
   ]
  },
  {
   "cell_type": "code",
   "execution_count": 5,
   "metadata": {},
   "outputs": [
    {
     "data": {
      "text/plain": [
       "(dtype('uint64'), (800, 1320, 658))"
      ]
     },
     "execution_count": 5,
     "metadata": {},
     "output_type": "execute_result"
    }
   ],
   "source": [
    "# Load the annotation volume\n",
    "logging.info(f\"Loading annotation volume from {annotation_path}.\")\n",
    "itk_annotation = itk.imread(annotation_path, itk.ULL)\n",
    "annotation_np = itk.array_view_from_image(itk_annotation)\n",
    "annotation_np.dtype, annotation_np.shape\n"
   ]
  },
  {
   "cell_type": "code",
   "execution_count": 6,
   "metadata": {},
   "outputs": [],
   "source": [
    "# Match H5 files by channels for all animals\n",
    "logging.info(f\"Matching H5 files in {base_dir}.\")\n",
    "animals_files = match_h5_files_by_channels(base_dir)"
   ]
  },
  {
   "cell_type": "code",
   "execution_count": 7,
   "metadata": {},
   "outputs": [
    {
     "name": "stderr",
     "output_type": "stream",
     "text": [
      "INFO:ANM549057_left_JF522:Logging initialized for animal processing.\n",
      "TIFFReadDirectory: Warning, Unknown field with tag 50838 (0xc696) encountered.\n",
      "TIFFReadDirectory: Warning, Unknown field with tag 50839 (0xc697) encountered.\n",
      "TIFFReadDirectory: Warning, Unknown field with tag 50838 (0xc696) encountered.\n",
      "TIFFReadDirectory: Warning, Unknown field with tag 50839 (0xc697) encountered.\n",
      "TIFFReadDirectory: Warning, Unknown field with tag 50838 (0xc696) encountered.\n",
      "TIFFReadDirectory: Warning, Unknown field with tag 50839 (0xc697) encountered.\n",
      "TIFFReadDirectory: Warning, Unknown field with tag 50838 (0xc696) encountered.\n",
      "TIFFReadDirectory: Warning, Unknown field with tag 50839 (0xc697) encountered.\n"
     ]
    },
    {
     "name": "stdout",
     "output_type": "stream",
     "text": [
      "[<function mean at 0x14e76d0fb870>, <function median at 0x14e76d048ef0>, <function std at 0x14e76d0fba30>]\n"
     ]
    },
    {
     "name": "stderr",
     "output_type": "stream",
     "text": [
      "Processing labels: 100%|███████████████████████████████████████████████████████████| 687/687 [00:58<00:00, 11.83label/s]\n",
      "INFO:ANM550749_left_JF552:Logging initialized for animal processing.\n"
     ]
    },
    {
     "name": "stdout",
     "output_type": "stream",
     "text": [
      "Region statistics saved to /nrs/spruston/Boaz/I2/2024-09-19_iDISCO_CalibrationBrains/ANM549057_left_JF522/itk/region_stats.csv\n"
     ]
    },
    {
     "name": "stderr",
     "output_type": "stream",
     "text": [
      "TIFFReadDirectory: Warning, Unknown field with tag 50838 (0xc696) encountered.\n",
      "TIFFReadDirectory: Warning, Unknown field with tag 50839 (0xc697) encountered.\n",
      "TIFFReadDirectory: Warning, Unknown field with tag 50838 (0xc696) encountered.\n",
      "TIFFReadDirectory: Warning, Unknown field with tag 50839 (0xc697) encountered.\n",
      "TIFFReadDirectory: Warning, Unknown field with tag 50838 (0xc696) encountered.\n",
      "TIFFReadDirectory: Warning, Unknown field with tag 50839 (0xc697) encountered.\n",
      "TIFFReadDirectory: Warning, Unknown field with tag 50838 (0xc696) encountered.\n",
      "TIFFReadDirectory: Warning, Unknown field with tag 50839 (0xc697) encountered.\n"
     ]
    },
    {
     "name": "stdout",
     "output_type": "stream",
     "text": [
      "[<function mean at 0x14e76d0fb870>, <function median at 0x14e76d048ef0>, <function std at 0x14e76d0fba30>]\n"
     ]
    },
    {
     "name": "stderr",
     "output_type": "stream",
     "text": [
      "Processing labels: 100%|███████████████████████████████████████████████████████████| 687/687 [00:58<00:00, 11.75label/s]\n",
      "INFO:ANM550751_left_JF673:Logging initialized for animal processing.\n"
     ]
    },
    {
     "name": "stdout",
     "output_type": "stream",
     "text": [
      "Region statistics saved to /nrs/spruston/Boaz/I2/2024-09-19_iDISCO_CalibrationBrains/ANM550749_left_JF552/itk/region_stats.csv\n"
     ]
    },
    {
     "name": "stderr",
     "output_type": "stream",
     "text": [
      "TIFFReadDirectory: Warning, Unknown field with tag 50838 (0xc696) encountered.\n",
      "TIFFReadDirectory: Warning, Unknown field with tag 50839 (0xc697) encountered.\n",
      "TIFFReadDirectory: Warning, Unknown field with tag 50838 (0xc696) encountered.\n",
      "TIFFReadDirectory: Warning, Unknown field with tag 50839 (0xc697) encountered.\n",
      "TIFFReadDirectory: Warning, Unknown field with tag 50838 (0xc696) encountered.\n",
      "TIFFReadDirectory: Warning, Unknown field with tag 50839 (0xc697) encountered.\n",
      "TIFFReadDirectory: Warning, Unknown field with tag 50838 (0xc696) encountered.\n",
      "TIFFReadDirectory: Warning, Unknown field with tag 50839 (0xc697) encountered.\n"
     ]
    },
    {
     "name": "stdout",
     "output_type": "stream",
     "text": [
      "[<function mean at 0x14e76d0fb870>, <function median at 0x14e76d048ef0>, <function std at 0x14e76d0fba30>]\n"
     ]
    },
    {
     "name": "stderr",
     "output_type": "stream",
     "text": [
      "Processing labels: 100%|███████████████████████████████████████████████████████████| 687/687 [00:58<00:00, 11.79label/s]\n",
      "INFO:ANM551089_left_JF673:Logging initialized for animal processing.\n"
     ]
    },
    {
     "name": "stdout",
     "output_type": "stream",
     "text": [
      "Region statistics saved to /nrs/spruston/Boaz/I2/2024-09-19_iDISCO_CalibrationBrains/ANM550751_left_JF673/itk/region_stats.csv\n"
     ]
    },
    {
     "name": "stderr",
     "output_type": "stream",
     "text": [
      "TIFFReadDirectory: Warning, Unknown field with tag 50838 (0xc696) encountered.\n",
      "TIFFReadDirectory: Warning, Unknown field with tag 50839 (0xc697) encountered.\n",
      "TIFFReadDirectory: Warning, Unknown field with tag 50838 (0xc696) encountered.\n",
      "TIFFReadDirectory: Warning, Unknown field with tag 50839 (0xc697) encountered.\n",
      "TIFFReadDirectory: Warning, Unknown field with tag 50838 (0xc696) encountered.\n",
      "TIFFReadDirectory: Warning, Unknown field with tag 50839 (0xc697) encountered.\n",
      "TIFFReadDirectory: Warning, Unknown field with tag 50838 (0xc696) encountered.\n",
      "TIFFReadDirectory: Warning, Unknown field with tag 50839 (0xc697) encountered.\n"
     ]
    },
    {
     "name": "stdout",
     "output_type": "stream",
     "text": [
      "[<function mean at 0x14e76d0fb870>, <function median at 0x14e76d048ef0>, <function std at 0x14e76d0fba30>]\n"
     ]
    },
    {
     "name": "stderr",
     "output_type": "stream",
     "text": [
      "Processing labels: 100%|███████████████████████████████████████████████████████████| 687/687 [00:58<00:00, 11.74label/s]\n"
     ]
    },
    {
     "name": "stdout",
     "output_type": "stream",
     "text": [
      "Region statistics saved to /nrs/spruston/Boaz/I2/2024-09-19_iDISCO_CalibrationBrains/ANM551089_left_JF673/itk/region_stats.csv\n"
     ]
    }
   ],
   "source": [
    "for animal in animals:\n",
    "    setup_logging(base_dir, animal)\n",
    "    # Load the fixed image (fx)\n",
    "    logging.info(f\"Loading fixed image (fx) from {fx_path}.\")\n",
    "    fx = itk.imread(fx_path, pixel_type=itk.US)\n",
    "\n",
    "    # Load the parameter files\n",
    "    param_files = [\n",
    "        os.path.join(param_files_dir, 'Order1_Par0000affine.txt'),\n",
    "        os.path.join(param_files_dir, 'Order3_Par0000bspline.txt'),\n",
    "        os.path.join(param_files_dir, 'Order4_Par0000bspline.txt'),\n",
    "        os.path.join(param_files_dir, 'Order5_Par0000bspline.txt')\n",
    "    ]\n",
    "    logging.info(f\"Loaded parameter files from {param_files_dir}.\")\n",
    "    # Get the files for the selected animal\n",
    "    files = animals_files.get(animal)\n",
    "    output_dir = os.path.join(base_dir, animal, 'itk')  # Ensure logs and outputs go to /itk\n",
    "    # Create the output directory if it doesn't exist\n",
    "    os.makedirs(output_dir, exist_ok=True)\n",
    "    logging.info(f\"Using output dir: {output_dir}\")\n",
    "    logging.info(\"Starting computation of region statistics.\")\n",
    "    funcs = [np.mean, np.median, np.std]\n",
    "    num_cores = os.cpu_count()  # Automatically detect the number of cores\n",
    "    df_stats = compute_region_stats(files, output_dir, annotation_np, funcs, num_cores)"
   ]
  },
  {
   "cell_type": "code",
   "execution_count": 8,
   "metadata": {},
   "outputs": [],
   "source": []
  },
  {
   "cell_type": "code",
   "execution_count": 9,
   "metadata": {},
   "outputs": [],
   "source": [
    "paths = collect_region_stats_paths('/nrs/spruston/Boaz/I2/')"
   ]
  },
  {
   "cell_type": "code",
   "execution_count": 10,
   "metadata": {},
   "outputs": [
    {
     "data": {
      "text/plain": [
       "{'555600': '/nrs/spruston/Boaz/I2/2024-09-09_Compare_iDISCO_EZCleat_THF/ANM555600_PSD-HT_iDISCO/itk/region_stats.csv',\n",
       " '549057': '/nrs/spruston/Boaz/I2/2024-09-19_iDISCO_CalibrationBrains/ANM549057_left_JF522/itk/region_stats.csv',\n",
       " '550749': '/nrs/spruston/Boaz/I2/2024-09-19_iDISCO_CalibrationBrains/ANM550749_left_JF552/itk/region_stats.csv',\n",
       " '550751': '/nrs/spruston/Boaz/I2/2024-09-19_iDISCO_CalibrationBrains/ANM550751_left_JF673/itk/region_stats.csv',\n",
       " '551089': '/nrs/spruston/Boaz/I2/2024-09-19_iDISCO_CalibrationBrains/ANM551089_left_JF673/itk/region_stats.csv'}"
      ]
     },
     "execution_count": 10,
     "metadata": {},
     "output_type": "execute_result"
    }
   ],
   "source": [
    "paths"
   ]
  },
  {
   "cell_type": "code",
   "execution_count": null,
   "metadata": {},
   "outputs": [],
   "source": []
  },
  {
   "cell_type": "markdown",
   "metadata": {},
   "source": [
    "# Multiple animals using bsub"
   ]
  },
  {
   "cell_type": "code",
   "execution_count": 7,
   "metadata": {},
   "outputs": [],
   "source": [
    "# Define parameters\n",
    "# base_dir = '/nrs/spruston/Boaz/I2/2024-09-19_iDISCO_CalibrationBrains'\n",
    "# base_dir = '/nrs/spruston/Boaz/I2/20240930_iDISCO_round2/'\n",
    "# base_dir = '/nrs/spruston/Boaz/I2/20241023_iDisco_Run3_mousecity/'\n",
    "# base_dir = '/nrs/spruston/Boaz/I2/20241104_iDISCO_R4/'\n",
    "base_dir = '/nrs/spruston/Boaz/I2/2024-07-31_Mafe/'\n",
    "fx = '/nrs/spruston/Boaz/I2/atlas10_hemi.tif'\n",
    "param_files_dir = '/nrs/spruston/Boaz/I2/itk'\n",
    "annotation_np = '/nrs/spruston/Boaz/I2/annotation_10_hemi.nii'\n",
    "python_script = os.path.abspath('../src/main.py')\n",
    "python_executable = sys.executable\n",
    "num_cores = 64\n",
    "flip_axes = []\n",
    "flip_axes = 2 # for BM19 21, 22"
   ]
  },
  {
   "cell_type": "code",
   "execution_count": 8,
   "metadata": {},
   "outputs": [
    {
     "data": {
      "text/plain": [
       "{'ANM542292_BM22': {'ch0': '/nrs/spruston/Boaz/I2/2024-07-31_Mafe/ANM542292_BM22/uni_tp-0_ch-0_st-0-x00-y00_obj-right_cam-long_etc.lux.h5',\n",
       "  'ch1': '/nrs/spruston/Boaz/I2/2024-07-31_Mafe/ANM542292_BM22/uni_tp-0_ch-1_st-0-x00-y00_obj-right_cam-long_etc.lux.h5',\n",
       "  'ch2': '/nrs/spruston/Boaz/I2/2024-07-31_Mafe/ANM542292_BM22/uni_tp-0_ch-2_st-0-x00-y00_obj-right_cam-long_etc.lux.h5'},\n",
       " 'ANM543603_BM21': {'ch0': '/nrs/spruston/Boaz/I2/2024-07-31_Mafe/ANM543603_BM21/uni_tp-0_ch-0_st-0-x00-y00_obj-right_cam-long_etc.lux.h5',\n",
       "  'ch1': '/nrs/spruston/Boaz/I2/2024-07-31_Mafe/ANM543603_BM21/uni_tp-0_ch-1_st-0-x00-y00_obj-right_cam-long_etc.lux.h5',\n",
       "  'ch2': '/nrs/spruston/Boaz/I2/2024-07-31_Mafe/ANM543603_BM21/uni_tp-0_ch-2_st-0-x00-y00_obj-right_cam-long_etc.lux.h5'},\n",
       " 'ANM543607_BM19': {'ch0': '/nrs/spruston/Boaz/I2/2024-07-31_Mafe/ANM543607_BM19/uni_tp-0_ch-0_st-0-x00-y00_obj-right_cam-long_etc.lux.h5',\n",
       "  'ch1': '/nrs/spruston/Boaz/I2/2024-07-31_Mafe/ANM543607_BM19/uni_tp-0_ch-1_st-0-x00-y00_obj-right_cam-long_etc.lux.h5',\n",
       "  'ch2': '/nrs/spruston/Boaz/I2/2024-07-31_Mafe/ANM543607_BM19/uni_tp-0_ch-2_st-0-x00-y00_obj-right_cam-long_etc.lux.h5'}}"
      ]
     },
     "execution_count": 8,
     "metadata": {},
     "output_type": "execute_result"
    }
   ],
   "source": [
    "\n",
    "animals_files = match_h5_files_by_channels(base_dir)\n",
    "animals_files"
   ]
  },
  {
   "cell_type": "code",
   "execution_count": 9,
   "metadata": {},
   "outputs": [
    {
     "data": {
      "text/plain": [
       "'/groups/spruston/home/moharb/DELTA_iDISCO/logs'"
      ]
     },
     "execution_count": 9,
     "metadata": {},
     "output_type": "execute_result"
    }
   ],
   "source": [
    "logs_dir = os.path.abspath('../logs')\n",
    "src_dir = os.path.abspath('../')\n",
    "# Create the logs directory if it doesn't exist\n",
    "os.makedirs(logs_dir, exist_ok=True)\n",
    "logs_dir"
   ]
  },
  {
   "cell_type": "code",
   "execution_count": 10,
   "metadata": {},
   "outputs": [],
   "source": [
    "\n",
    "animals = ['ANM542292_BM22', 'ANM543603_BM21','ANM543607_BM19' ]\n"
   ]
  },
  {
   "cell_type": "code",
   "execution_count": 14,
   "metadata": {
    "tags": []
   },
   "outputs": [
    {
     "name": "stdout",
     "output_type": "stream",
     "text": [
      "Submitting job for animal: ANM542292_BM22\n",
      "['bsub', '-J', 'job_ANM542292_BM22', '-n', '64', '-o', '/groups/spruston/home/moharb/DELTA_iDISCO/logs/output_ANM542292_BM22.log', '-e', '/groups/spruston/home/moharb/DELTA_iDISCO/logs/error_ANM542292_BM22.log', 'bash', '-c', 'cd /groups/spruston/home/moharb/DELTA_iDISCO && /groups/spruston/home/moharb/mambaforge/envs/pyants/bin/python /groups/spruston/home/moharb/DELTA_iDISCO/src/main.py --animal ANM542292_BM22 --base_dir /nrs/spruston/Boaz/I2/2024-07-31_Mafe/ --fx /nrs/spruston/Boaz/I2/atlas10_hemi.tif --param_files_dir /nrs/spruston/Boaz/I2/itk --annotation_np /nrs/spruston/Boaz/I2/annotation_10_hemi.nii --flip_axes 2']\n",
      "Job <142016881> is submitted to default queue <local>.\n",
      "Submitting job for animal: ANM543603_BM21\n",
      "['bsub', '-J', 'job_ANM543603_BM21', '-n', '64', '-o', '/groups/spruston/home/moharb/DELTA_iDISCO/logs/output_ANM543603_BM21.log', '-e', '/groups/spruston/home/moharb/DELTA_iDISCO/logs/error_ANM543603_BM21.log', 'bash', '-c', 'cd /groups/spruston/home/moharb/DELTA_iDISCO && /groups/spruston/home/moharb/mambaforge/envs/pyants/bin/python /groups/spruston/home/moharb/DELTA_iDISCO/src/main.py --animal ANM543603_BM21 --base_dir /nrs/spruston/Boaz/I2/2024-07-31_Mafe/ --fx /nrs/spruston/Boaz/I2/atlas10_hemi.tif --param_files_dir /nrs/spruston/Boaz/I2/itk --annotation_np /nrs/spruston/Boaz/I2/annotation_10_hemi.nii --flip_axes 2']\n",
      "Job <142016882> is submitted to default queue <local>.\n",
      "Submitting job for animal: ANM543607_BM19\n",
      "['bsub', '-J', 'job_ANM543607_BM19', '-n', '64', '-o', '/groups/spruston/home/moharb/DELTA_iDISCO/logs/output_ANM543607_BM19.log', '-e', '/groups/spruston/home/moharb/DELTA_iDISCO/logs/error_ANM543607_BM19.log', 'bash', '-c', 'cd /groups/spruston/home/moharb/DELTA_iDISCO && /groups/spruston/home/moharb/mambaforge/envs/pyants/bin/python /groups/spruston/home/moharb/DELTA_iDISCO/src/main.py --animal ANM543607_BM19 --base_dir /nrs/spruston/Boaz/I2/2024-07-31_Mafe/ --fx /nrs/spruston/Boaz/I2/atlas10_hemi.tif --param_files_dir /nrs/spruston/Boaz/I2/itk --annotation_np /nrs/spruston/Boaz/I2/annotation_10_hemi.nii --flip_axes 2']\n",
      "Job <142016883> is submitted to default queue <local>.\n"
     ]
    },
    {
     "name": "stderr",
     "output_type": "stream",
     "text": [
      "This job will be billed to spruston\n",
      "This job will be billed to spruston\n",
      "This job will be billed to spruston\n"
     ]
    }
   ],
   "source": [
    "for animal in animals:\n",
    "    # Construct the log file paths\n",
    "    output_log = os.path.join(logs_dir, f'output_{animal}.log')\n",
    "    error_log = os.path.join(logs_dir, f'error_{animal}.log')\n",
    "    bsub_command = [\n",
    "        'bsub',\n",
    "        '-J', f'job_{animal}',  # Job name\n",
    "        '-n', str(num_cores),  # Number of CPU cores\n",
    "        '-o', output_log,  # Output log\n",
    "        '-e', error_log,  # Error log\n",
    "        'bash', '-c',  # Run the following as a bash command\n",
    "        f\"cd {src_dir} && {python_executable} {python_script} \"\n",
    "        f\"--animal {animal} --base_dir {base_dir} --fx {fx} \"\n",
    "        f\"--param_files_dir {param_files_dir} --annotation_np {annotation_np}\"\n",
    "        f\" --flip_axes {flip_axes}\"\n",
    "    ]\n",
    "    \n",
    "    \n",
    "\n",
    "    # Submit the job to the cluster\n",
    "    print(f\"Submitting job for animal: {animal}\")\n",
    "    print(bsub_command)\n",
    "    subprocess.run(bsub_command)"
   ]
  },
  {
   "cell_type": "code",
   "execution_count": 17,
   "metadata": {},
   "outputs": [
    {
     "name": "stdout",
     "output_type": "stream",
     "text": [
      "JOBID      USER    STAT  QUEUE      FROM_HOST   EXEC_HOST   JOB_NAME   SUBMIT_TIME\n",
      "142016873  moharb  RUN   interactiv e02u30      3*h07u01    /bin/bash  Nov 14 12:49\n",
      "142016881  moharb  RUN   local      h07u01      64*h06u07   *2292_BM22 Nov 14 12:52\n",
      "142016882  moharb  RUN   local      h07u01      64*h06u09   *3603_BM21 Nov 14 12:52\n",
      "142016883  moharb  RUN   local      h07u01      64*h06u10   *3607_BM19 Nov 14 12:52\n"
     ]
    }
   ],
   "source": [
    "!bjobs"
   ]
  },
  {
   "cell_type": "code",
   "execution_count": null,
   "metadata": {},
   "outputs": [],
   "source": []
  }
 ],
 "metadata": {
  "kernelspec": {
   "display_name": "pyants_311",
   "language": "python",
   "name": "pyants_311"
  },
  "language_info": {
   "codemirror_mode": {
    "name": "ipython",
    "version": 3
   },
   "file_extension": ".py",
   "mimetype": "text/x-python",
   "name": "python",
   "nbconvert_exporter": "python",
   "pygments_lexer": "ipython3",
   "version": "3.11.9"
  }
 },
 "nbformat": 4,
 "nbformat_minor": 4
}
