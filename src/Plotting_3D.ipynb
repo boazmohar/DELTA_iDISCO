{
 "cells": [
  {
   "cell_type": "code",
   "execution_count": 80,
   "id": "1fba57d3-3d83-46d8-920b-0562d73f69ac",
   "metadata": {
    "execution": {
     "iopub.execute_input": "2024-09-28T16:12:54.134194Z",
     "iopub.status.busy": "2024-09-28T16:12:54.133648Z",
     "iopub.status.idle": "2024-09-28T16:12:54.138943Z",
     "shell.execute_reply": "2024-09-28T16:12:54.138369Z",
     "shell.execute_reply.started": "2024-09-28T16:12:54.134166Z"
    }
   },
   "outputs": [],
   "source": [
    "import numpy as np\n",
    "import pandas as pd\n",
    "import os\n",
    "import plotly.graph_objs as go\n",
    "import nrrd\n",
    "from scipy.ndimage import zoom, sobel\n",
    "import plotly.io as pio\n",
    "pio.renderers.default = 'iframe'  # Set to 'notebook' for JupyterLab support\n",
    "from skimage import measure"
   ]
  },
  {
   "cell_type": "code",
   "execution_count": 96,
   "id": "7c42f341-cf19-4f7a-97d2-1c7d71cf4de2",
   "metadata": {
    "execution": {
     "iopub.execute_input": "2024-09-28T19:33:24.017869Z",
     "iopub.status.busy": "2024-09-28T19:33:24.017398Z",
     "iopub.status.idle": "2024-09-28T19:33:24.041825Z",
     "shell.execute_reply": "2024-09-28T19:33:24.041227Z",
     "shell.execute_reply.started": "2024-09-28T19:33:24.017842Z"
    }
   },
   "outputs": [],
   "source": [
    "\n",
    "def downsample_volume(volume, downsample_factor):\n",
    "    \"\"\"\n",
    "    Downsample a 3D volume by a specified factor using zoom.\n",
    "    \n",
    "    Parameters:\n",
    "        volume (ndarray): The input 3D volume to downsample.\n",
    "        downsample_factor (float): Factor by which to downsample the volume.\n",
    "    \n",
    "    Returns:\n",
    "        downsampled_volume (ndarray): The downsampled 3D volume.\n",
    "    \"\"\"\n",
    "    return zoom(volume, (1/downsample_factor, 1/downsample_factor, 1/downsample_factor), order=0)\n",
    "\n",
    "# Function to create a scale bar along X, Y, Z axes\n",
    "def add_scale_bars(fig, length=1, offset=0):\n",
    "    # X-axis scale bar\n",
    "    fig.add_trace(go.Scatter3d(\n",
    "        x=[offset, offset + length],\n",
    "        y=[0, 0],\n",
    "        z=[0, 0],\n",
    "        mode='lines',\n",
    "        line=dict(color='red', width=5),\n",
    "        showlegend=False \n",
    "    ))\n",
    "\n",
    "    # Y-axis scale bar\n",
    "    fig.add_trace(go.Scatter3d(\n",
    "        x=[0, 0],\n",
    "        y=[offset, offset + length],\n",
    "        z=[0, 0],\n",
    "        mode='lines',\n",
    "        line=dict(color='green', width=5),\n",
    "        showlegend=False \n",
    "    ))\n",
    "\n",
    "    # Z-axis scale bar\n",
    "    fig.add_trace(go.Scatter3d(\n",
    "        x=[0, 0],\n",
    "        y=[0, 0],\n",
    "        z=[offset, offset + length],\n",
    "        mode='lines',\n",
    "        line=dict(color='blue', width=5),\n",
    "        showlegend=False \n",
    "    ))\n",
    "\n",
    "\n",
    "# Plotting function reuses the precomputed vertices and faces\n",
    "def plot_interactive_3d_brain_isosurface(region_ids, annotation_data, verts, faces, \n",
    "                                         ccf_resolution=0.05, region_names=None,\n",
    "                                        percentage_changes=None):\n",
    "    # Create the plotly figure\n",
    "    fig = go.Figure()\n",
    "\n",
    "    # Mask and region extraction\n",
    "    masks = [np.isin(annotation_data, region_id) for region_id in region_ids]\n",
    "    # Get the indices of the masked regions for each region\n",
    "    region_coords = [np.column_stack(np.where(mask)) for mask in masks]\n",
    "    \n",
    "    # Convert voxel indices to real-world coordinates (in millimeters)\n",
    "    region_coords = [coords * ccf_resolution for coords in region_coords]\n",
    "\n",
    "    # Define colors for the regions\n",
    "    colors = ['red', 'blue', 'green', 'orange', 'purple']  \n",
    "   \n",
    "    # Plot the regions with ordered colors based on importance\n",
    "    for i, coords in enumerate(region_coords):\n",
    "        if not percentage_changes is None:\n",
    "            label = f\"{region_names[i]} ({percentage_changes[i]:.1f}% change)\"\n",
    "        else:\n",
    "            label = region_names[i] if region_names else f\"Region {region_ids[i]}\"\n",
    "\n",
    "        fig.add_trace(go.Scatter3d(\n",
    "            x=coords[:, 0],\n",
    "            y=coords[:, 1],\n",
    "            z=coords[:, 2],\n",
    "            mode='markers',\n",
    "            marker=dict(size=6, color=colors[i], opacity=0.8),\n",
    "            name=label\n",
    "        ))\n",
    "\n",
    "    # Convert voxel indices to real-world coordinates in millimeters for the brain outline\n",
    "    verts = verts * ccf_resolution\n",
    "    x, y, z = verts[:, 0], verts[:, 1], verts[:, 2]\n",
    "\n",
    "    # Plot the 3D surface for the brain outline using the precomputed marching cubes vertices and faces\n",
    "    fig.add_trace(go.Mesh3d(\n",
    "        x=x,\n",
    "        y=y,\n",
    "        z=z,\n",
    "        i=faces[:, 0],\n",
    "        j=faces[:, 1],\n",
    "        k=faces[:, 2],\n",
    "        opacity=0.3,  # Adjust transparency for the outline\n",
    "        color='gray',\n",
    "        name='Brain Isosurface'\n",
    "    ))\n",
    "    camera  = dict(\n",
    "    eye=dict(x=-.5, y=-2.5, z=-1),    # Camera placed diagonally above, right, and front\n",
    "    center=dict(x=0, y=0, z=0),\n",
    "    up=dict(x=0, y=0, z=1)      # Z-axis is up\n",
    ")\n",
    "    # Update layout for better viewing and set to mm\n",
    "    fig.update_layout(\n",
    "        scene=dict(\n",
    "            xaxis_title='X (mm)',\n",
    "            yaxis_title='Y (mm)',\n",
    "            zaxis_title='Z (mm)',\n",
    "            aspectmode='data'\n",
    "        ),\n",
    "        margin=dict(l=0, r=0, b=0, t=0),\n",
    "        legend=dict(x=0, y=1),\n",
    "        scene_camera=camera\n",
    "    )\n",
    "\n",
    "    # Add custom scale bars\n",
    "    add_scale_bars(fig)\n",
    "    \n",
    "    # Hide the default background axes\n",
    "    fig.update_layout(\n",
    "        scene=dict(\n",
    "            xaxis=dict(showbackground=False, showticklabels=False, visible=False),\n",
    "            yaxis=dict(showbackground=False, showticklabels=False, visible=False),\n",
    "            zaxis=dict(showbackground=False, showticklabels=False, visible=False)\n",
    "        )\n",
    "    )\n",
    "    # Set the iframe renderer for JupyterLab\n",
    "    pio.renderers.default = 'iframe'\n",
    "    fig.show()\n",
    "    return fig\n",
    "    \n",
    "def get_values(df):\n",
    "    region_names = df['name'].tolist()\n",
    "    region_ids = df['id'].tolist()\n",
    "    change = (df['ratio'].values-1)*100\n",
    "    return region_ids, region_names, change\n",
    "    "
   ]
  },
  {
   "cell_type": "code",
   "execution_count": 93,
   "id": "8ae6804f-22e7-4f14-91a6-b727b7e04746",
   "metadata": {
    "execution": {
     "iopub.execute_input": "2024-09-28T19:33:07.099134Z",
     "iopub.status.busy": "2024-09-28T19:33:07.098629Z",
     "iopub.status.idle": "2024-09-28T19:33:07.611214Z",
     "shell.execute_reply": "2024-09-28T19:33:07.610855Z",
     "shell.execute_reply.started": "2024-09-28T19:33:07.099107Z"
    }
   },
   "outputs": [],
   "source": [
    "# Load the annotation volume from the specified path\n",
    "annotation_volume_path = \"/Users/moharb/Downloads/annotation_25.nrrd\"\n",
    "annotation_data, _ = nrrd.read(annotation_volume_path)\n",
    "\n",
    "# Downsample the volume by a factor of 5 (from 10um to 50um resolution)\n",
    "downsample_factor = 2\n",
    "downsampled_annotation_data = downsample_volume(annotation_data, downsample_factor)\n",
    "\n",
    "# Compute the marching cubes surface outside the plotting function\n",
    "verts, faces, normals, values = measure.marching_cubes(downsampled_annotation_data > 0, step_size=5)\n",
    "\n",
    "\n",
    "# Let's assume the actual annotation_data is already provided as downsampled_annotation_data\n",
    "# Adjust the ccf_resolution to convert to millimeters (50um = 0.05mm)\n",
    "ccf_resolution_mm = 0.05  # 50 um = 0.05 mm\n",
    "\n",
    "# Load the first 10 rows of each table from the CSV files\n",
    "tbl_pair_DOI = pd.read_csv('/Users/moharb/Dropbox (HHMI)/Projects/Unbised/CCF_tools/I2/tbl_pair_DOI_first10.csv')\n",
    "tbl_pair_EE = pd.read_csv('/Users/moharb/Dropbox (HHMI)/Projects/Unbised/CCF_tools/I2/tbl_pair_EE_first10.csv')\n",
    "tbl_pair_early = pd.read_csv('/Users/moharb/Dropbox (HHMI)/Projects/Unbised/CCF_tools/I2/tbl_pair_early_first10.csv')\n",
    "tbl_pair_rule = pd.read_csv('/Users/moharb/Dropbox (HHMI)/Projects/Unbised/CCF_tools/I2/tbl_pair_rule_first10.csv')\n",
    "\n"
   ]
  },
  {
   "cell_type": "code",
   "execution_count": null,
   "id": "53c7cd4d-21eb-4e71-8b34-d5128c82ba4f",
   "metadata": {},
   "outputs": [],
   "source": [
    "\n",
    "    "
   ]
  },
  {
   "cell_type": "code",
   "execution_count": 94,
   "id": "6b6d3941-8931-4a5d-8847-d13051daaace",
   "metadata": {
    "execution": {
     "iopub.execute_input": "2024-09-28T19:33:08.339384Z",
     "iopub.status.busy": "2024-09-28T19:33:08.338872Z",
     "iopub.status.idle": "2024-09-28T19:33:08.343181Z",
     "shell.execute_reply": "2024-09-28T19:33:08.342481Z",
     "shell.execute_reply.started": "2024-09-28T19:33:08.339353Z"
    }
   },
   "outputs": [],
   "source": [
    "base_path = '/Users/moharb/Dropbox (HHMI)/Projects/Unbised/CCF_tools/I2'"
   ]
  },
  {
   "cell_type": "code",
   "execution_count": 97,
   "id": "30e20462-c973-4dbf-abbf-86d135ffc742",
   "metadata": {
    "execution": {
     "iopub.execute_input": "2024-09-28T19:33:26.315829Z",
     "iopub.status.busy": "2024-09-28T19:33:26.315364Z",
     "iopub.status.idle": "2024-09-28T19:33:29.923595Z",
     "shell.execute_reply": "2024-09-28T19:33:29.923246Z",
     "shell.execute_reply.started": "2024-09-28T19:33:26.315801Z"
    }
   },
   "outputs": [
    {
     "data": {
      "text/html": [
       "<iframe\n",
       "    scrolling=\"no\"\n",
       "    width=\"100%\"\n",
       "    height=\"545px\"\n",
       "    src=\"iframe_figures/figure_97.html\"\n",
       "    frameborder=\"0\"\n",
       "    allowfullscreen\n",
       "></iframe>\n"
      ]
     },
     "metadata": {},
     "output_type": "display_data"
    }
   ],
   "source": [
    "region_ids, region_names, change = get_values(tbl_pair_rule)\n",
    "fig = plot_interactive_3d_brain_isosurface(region_ids[:5], \n",
    "                                           downsampled_annotation_data,\n",
    "                                           verts, \n",
    "                                           faces, \n",
    "                                           ccf_resolution=0.05, \n",
    "                                           region_names=region_names[:5], \n",
    "                                          percentage_changes=change)\n",
    "fig.write_image(os.path.join(base_path, 'top5_rule.pdf'))"
   ]
  },
  {
   "cell_type": "code",
   "execution_count": 98,
   "id": "daf8cc4f-d756-40d3-87a2-11cb896594ef",
   "metadata": {
    "execution": {
     "iopub.execute_input": "2024-09-28T19:33:32.992500Z",
     "iopub.status.busy": "2024-09-28T19:33:32.991933Z",
     "iopub.status.idle": "2024-09-28T19:33:34.460571Z",
     "shell.execute_reply": "2024-09-28T19:33:34.458495Z",
     "shell.execute_reply.started": "2024-09-28T19:33:32.992470Z"
    }
   },
   "outputs": [
    {
     "data": {
      "text/html": [
       "<iframe\n",
       "    scrolling=\"no\"\n",
       "    width=\"100%\"\n",
       "    height=\"545px\"\n",
       "    src=\"iframe_figures/figure_98.html\"\n",
       "    frameborder=\"0\"\n",
       "    allowfullscreen\n",
       "></iframe>\n"
      ]
     },
     "metadata": {},
     "output_type": "display_data"
    }
   ],
   "source": [
    "region_ids, region_names, change = get_values(tbl_pair_EE)\n",
    "fig = plot_interactive_3d_brain_isosurface(region_ids[:5], \n",
    "                                           downsampled_annotation_data,\n",
    "                                           verts, \n",
    "                                           faces, \n",
    "                                           ccf_resolution=0.05, \n",
    "                                           region_names=region_names[:5],\n",
    "                                          percentage_changes=change)\n",
    "fig.write_image(os.path.join(base_path, 'top5_EE.pdf'))\n"
   ]
  },
  {
   "cell_type": "code",
   "execution_count": 99,
   "id": "ebfb8a66-2538-4f3c-8373-d3f9b3bfd7d7",
   "metadata": {
    "execution": {
     "iopub.execute_input": "2024-09-28T19:33:35.788726Z",
     "iopub.status.busy": "2024-09-28T19:33:35.787933Z",
     "iopub.status.idle": "2024-09-28T19:33:37.195543Z",
     "shell.execute_reply": "2024-09-28T19:33:37.195146Z",
     "shell.execute_reply.started": "2024-09-28T19:33:35.788667Z"
    }
   },
   "outputs": [
    {
     "data": {
      "text/html": [
       "<iframe\n",
       "    scrolling=\"no\"\n",
       "    width=\"100%\"\n",
       "    height=\"545px\"\n",
       "    src=\"iframe_figures/figure_99.html\"\n",
       "    frameborder=\"0\"\n",
       "    allowfullscreen\n",
       "></iframe>\n"
      ]
     },
     "metadata": {},
     "output_type": "display_data"
    }
   ],
   "source": [
    "region_ids, region_names, change = get_values(tbl_pair_early)\n",
    "fig = plot_interactive_3d_brain_isosurface(region_ids[:5], \n",
    "                                           downsampled_annotation_data,\n",
    "                                           verts, \n",
    "                                           faces, \n",
    "                                           ccf_resolution=0.05, \n",
    "                                           region_names=region_names[:5], \n",
    "                                          percentage_changes=change)\n",
    "fig.write_image(os.path.join(base_path, 'top5_early.pdf'))\n"
   ]
  },
  {
   "cell_type": "code",
   "execution_count": 100,
   "id": "9c3d3ea7-a2f8-42c9-8a7c-f051cb8abde1",
   "metadata": {
    "execution": {
     "iopub.execute_input": "2024-09-28T19:33:37.196276Z",
     "iopub.status.busy": "2024-09-28T19:33:37.196196Z",
     "iopub.status.idle": "2024-09-28T19:33:38.631075Z",
     "shell.execute_reply": "2024-09-28T19:33:38.630709Z",
     "shell.execute_reply.started": "2024-09-28T19:33:37.196269Z"
    }
   },
   "outputs": [
    {
     "data": {
      "text/html": [
       "<iframe\n",
       "    scrolling=\"no\"\n",
       "    width=\"100%\"\n",
       "    height=\"545px\"\n",
       "    src=\"iframe_figures/figure_100.html\"\n",
       "    frameborder=\"0\"\n",
       "    allowfullscreen\n",
       "></iframe>\n"
      ]
     },
     "metadata": {},
     "output_type": "display_data"
    }
   ],
   "source": [
    "region_ids, region_names, change = get_values(tbl_pair_DOI)\n",
    "fig = plot_interactive_3d_brain_isosurface(region_ids[:5], \n",
    "                                           downsampled_annotation_data,\n",
    "                                           verts, \n",
    "                                           faces, \n",
    "                                           ccf_resolution=0.05, \n",
    "                                           region_names=region_names[:5], \n",
    "                                          percentage_changes=change)\n",
    "fig.write_image(os.path.join(base_path, 'top5_DOI.pdf'))\n"
   ]
  },
  {
   "cell_type": "code",
   "execution_count": null,
   "id": "55c1a372-b4eb-4b8d-a91f-8db48e0b03f2",
   "metadata": {},
   "outputs": [],
   "source": []
  }
 ],
 "metadata": {
  "kernelspec": {
   "display_name": "py39 pyANTs",
   "language": "python",
   "name": "pyants"
  },
  "language_info": {
   "codemirror_mode": {
    "name": "ipython",
    "version": 3
   },
   "file_extension": ".py",
   "mimetype": "text/x-python",
   "name": "python",
   "nbconvert_exporter": "python",
   "pygments_lexer": "ipython3",
   "version": "3.11.9"
  }
 },
 "nbformat": 4,
 "nbformat_minor": 5
}
