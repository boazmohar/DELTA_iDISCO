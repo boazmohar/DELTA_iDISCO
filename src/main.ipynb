{
 "cells": [
  {
   "cell_type": "code",
   "execution_count": 1,
   "metadata": {},
   "outputs": [],
   "source": [
    "import os\n",
    "import sys\n",
    "import subprocess\n",
    "from skimage import io\n",
    "import numpy as np\n",
    "import itk\n",
    "# Add the 'src' folder to the Python path\n",
    "sys.path.append(os.path.abspath('../'))\n",
    "from src.utils import match_h5_files_by_channels, read_h5_image\n",
    "from src.registration import register_and_transform\n",
    "from src.stats import compute_region_stats"
   ]
  },
  {
   "cell_type": "markdown",
   "metadata": {},
   "source": [
    "# single animal"
   ]
  },
  {
   "cell_type": "code",
   "execution_count": 2,
   "metadata": {},
   "outputs": [],
   "source": [
    "def process_animal(animal, base_dir, fx, param_files, annotation_np):\n",
    "    \"\"\"\n",
    "    Process a single animal by:\n",
    "    - Registering and transforming the images\n",
    "    - Computing regional statistics\n",
    "    \"\"\"\n",
    "    animals = match_h5_files_by_channels(base_dir)\n",
    "    files = animals.get(animal)\n",
    "    \n",
    "    if not files:\n",
    "        print(f\"No files found for animal {animal}\")\n",
    "        return\n",
    "\n",
    "    output_dir = os.path.join(base_dir, animal, 'itk')\n",
    "\n",
    "    # Step 1: Register and Transform\n",
    "    register_and_transform(fx, files, output_dir, param_files)\n",
    "\n",
    "    # Step 2: Compute Region Statistics\n",
    "    compute_region_stats(files, output_dir, annotation_np)\n"
   ]
  },
  {
   "cell_type": "code",
   "execution_count": null,
   "metadata": {},
   "outputs": [],
   "source": [
    "# I have a bunch of folders for a batch of animals that were imaged toghether\n",
    "base_dir = '/nrs/spruston/Boaz/I2/2024-09-19_iDISCO_CalibrationBrains'"
   ]
  },
  {
   "cell_type": "code",
   "execution_count": null,
   "metadata": {},
   "outputs": [],
   "source": [
    "# this is the atlas image and anotation image I use for registration (10um voxel size cut in half)\n",
    "fx = itk.imread('/nrs/spruston/Boaz/I2/atlas10_hemi.tif', pixel_type=itk.US)\n",
    "annotation_np = np.int64(io.imread('/nrs/spruston/Boaz/I2/annotatin10_hemi.tif'))"
   ]
  },
  {
   "cell_type": "code",
   "execution_count": null,
   "metadata": {},
   "outputs": [],
   "source": [
    "# these are the registation paramaters, they are also in the repo under param files\n",
    "param_files = [\n",
    "    '/nrs/spruston/Boaz/I2/itk/Order1_Par0000affine.txt',\n",
    "    '/nrs/spruston/Boaz/I2/itk/Order3_Par0000bspline.txt',\n",
    "    '/nrs/spruston/Boaz/I2/itk/Order4_Par0000bspline.txt',\n",
    "    '/nrs/spruston/Boaz/I2/itk/Order5_Par0000bspline.txt'\n",
    "]\n"
   ]
  },
  {
   "cell_type": "code",
   "execution_count": null,
   "metadata": {},
   "outputs": [],
   "source": [
    "#this is one of the subfolders from the base path, the output of the MuVi lightsheet\n",
    "animal = 'ANM550749_left_JF552'\n",
    "process_animal(animal, base_dir, fx, param_files, annotation_np)"
   ]
  },
  {
   "cell_type": "markdown",
   "metadata": {},
   "source": [
    "## submit to cluster"
   ]
  },
  {
   "cell_type": "code",
   "execution_count": null,
   "metadata": {},
   "outputs": [],
   "source": [
    "def submit_job(animal, base_dir, logs_dir, python_script):\n",
    "    \"\"\"\n",
    "    Function to submit a job to the cluster using bsub\n",
    "    :param animal: The animal ID to process\n",
    "    :param base_dir: Base directory for the data\n",
    "    :param logs_dir: Directory for log files\n",
    "    :param python_script: Path to the Python script\n",
    "    \"\"\"\n",
    "    job_name = f\"job_{animal}\"\n",
    "    output_log = os.path.join(logs_dir, f\"output_{animal}.log\")\n",
    "    error_log = os.path.join(logs_dir, f\"error_{animal}.log\")\n",
    "    \n",
    "    bsub_command = [\n",
    "        'bsub',\n",
    "        '-J', job_name,\n",
    "        '-n', '4',  # Number of CPU cores\n",
    "        '-W', '4:00',  # Wall-clock time limit\n",
    "        '-R', 'rusage[mem=8000]',  # Memory request\n",
    "        '-o', output_log,  # Output log\n",
    "        '-e', error_log,  # Error log\n",
    "        'python', python_script, '--animal', animal\n",
    "    ]\n",
    "    \n",
    "    print(f\"Submitting job for animal {animal}...\")\n",
    "    subprocess.run(bsub_command)\n"
   ]
  },
  {
   "cell_type": "code",
   "execution_count": null,
   "metadata": {},
   "outputs": [],
   "source": []
  },
  {
   "cell_type": "code",
   "execution_count": null,
   "metadata": {},
   "outputs": [],
   "source": []
  },
  {
   "cell_type": "code",
   "execution_count": null,
   "metadata": {},
   "outputs": [],
   "source": []
  }
 ],
 "metadata": {
  "kernelspec": {
   "display_name": "pyants",
   "language": "python",
   "name": "python3"
  },
  "language_info": {
   "codemirror_mode": {
    "name": "ipython",
    "version": 3
   },
   "file_extension": ".py",
   "mimetype": "text/x-python",
   "name": "python",
   "nbconvert_exporter": "python",
   "pygments_lexer": "ipython3",
   "version": "3.11.9"
  }
 },
 "nbformat": 4,
 "nbformat_minor": 2
}
