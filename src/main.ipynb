{
 "cells": [
  {
   "cell_type": "code",
   "execution_count": 2,
   "metadata": {},
   "outputs": [],
   "source": [
    "import os\n",
    "import sys\n",
    "import subprocess\n",
    "from skimage import io\n",
    "import numpy as np\n",
    "import itk\n",
    "# Add the 'src' folder to the Python path\n",
    "sys.path.append(os.path.abspath('../'))\n",
    "from src.utils import match_h5_files_by_channels, setup_logging\n",
    "from src.registration import register_and_transform\n",
    "from src.stats import compute_region_stats\n",
    "import logging"
   ]
  },
  {
   "cell_type": "markdown",
   "metadata": {},
   "source": [
    "# single animal"
   ]
  },
  {
   "cell_type": "code",
   "execution_count": 3,
   "metadata": {},
   "outputs": [],
   "source": [
    "def process_animal(animal, files, base_dir, fx, param_files, annotation_np):\n",
    "    \"\"\"\n",
    "    Process a single animal by:\n",
    "    - Registering and transforming the images\n",
    "    - Computing regional statistics\n",
    "    \"\"\"\n",
    "    output_dir = os.path.join(base_dir, animal, 'itk')  # Ensure logs and outputs go to /itk\n",
    "    \n",
    "    # Create the output directory if it doesn't exist\n",
    "    os.makedirs(output_dir, exist_ok=True)\n",
    "\n",
    "    # Step 1: Register and Transform\n",
    "    logging.info(\"Starting registration and transformation.\")\n",
    "    register_and_transform(fx, files, output_dir, param_files)\n",
    "    logging.info(\"Finished registration and transformation.\")\n",
    "\n",
    "    # Step 2: Compute Region Statistics\n",
    "    logging.info(\"Starting computation of region statistics.\")\n",
    "    compute_region_stats(files, output_dir, annotation_np)\n",
    "    logging.info(\"Finished computation of region statistics.\")\n",
    "    \n",
    "    # Log the location of the logs and output files\n",
    "    log_file = os.path.join(output_dir, f'registration_log_{animal}.txt')\n",
    "    logging.info(f\"Processing logs and outputs are saved in: {log_file}\")"
   ]
  },
  {
   "cell_type": "code",
   "execution_count": 17,
   "metadata": {},
   "outputs": [],
   "source": [
    "animal = 'ANM555600_PSD-HT_iDISCO'\n",
    "base_dir = '/nrs/spruston/Boaz/I2/2024-09-09_Compare_iDISCO_EZCleat_THF'"
   ]
  },
  {
   "cell_type": "code",
   "execution_count": null,
   "metadata": {},
   "outputs": [],
   "source": [
    "animal = 'ANM550749_left_JF552'\n",
    "base_dir = '/nrs/spruston/Boaz/I2/2024-09-19_iDISCO_CalibrationBrains'"
   ]
  },
  {
   "cell_type": "code",
   "execution_count": 18,
   "metadata": {},
   "outputs": [],
   "source": [
    "# Set the parameters manually here\n",
    "\n",
    "fx_path = '/nrs/spruston/Boaz/I2/atlas10_hemi.tif'\n",
    "param_files_dir = '/nrs/spruston/Boaz/I2/itk'\n",
    "annotation_np_path = '/nrs/spruston/Boaz/I2/annotatin10_hemi.tif'"
   ]
  },
  {
   "cell_type": "code",
   "execution_count": 19,
   "metadata": {},
   "outputs": [
    {
     "name": "stderr",
     "output_type": "stream",
     "text": [
      "INFO:ANM555600_PSD-HT_iDISCO:Logging initialized for animal processing.\n",
      "TIFFReadDirectory: Warning, Unknown field with tag 50838 (0xc696) encountered.\n",
      "TIFFReadDirectory: Warning, Unknown field with tag 50839 (0xc697) encountered.\n",
      "TIFFReadDirectory: Warning, Unknown field with tag 50838 (0xc696) encountered.\n",
      "TIFFReadDirectory: Warning, Unknown field with tag 50839 (0xc697) encountered.\n",
      "TIFFReadDirectory: Warning, Unknown field with tag 50838 (0xc696) encountered.\n",
      "TIFFReadDirectory: Warning, Unknown field with tag 50839 (0xc697) encountered.\n",
      "TIFFReadDirectory: Warning, Unknown field with tag 50838 (0xc696) encountered.\n",
      "TIFFReadDirectory: Warning, Unknown field with tag 50839 (0xc697) encountered.\n"
     ]
    }
   ],
   "source": [
    "setup_logging(base_dir, animal)\n",
    "\n",
    "# Load the fixed image (fx)\n",
    "logging.info(f\"Loading fixed image (fx) from {fx_path}.\")\n",
    "fx = itk.imread(fx_path, pixel_type=itk.US)\n",
    "\n",
    "# Load the parameter files\n",
    "param_files = [\n",
    "    os.path.join(param_files_dir, 'Order1_Par0000affine.txt'),\n",
    "    os.path.join(param_files_dir, 'Order3_Par0000bspline.txt'),\n",
    "    os.path.join(param_files_dir, 'Order4_Par0000bspline.txt'),\n",
    "    os.path.join(param_files_dir, 'Order5_Par0000bspline.txt')\n",
    "]\n",
    "logging.info(f\"Loaded parameter files from {param_files_dir}.\")\n",
    "\n"
   ]
  },
  {
   "cell_type": "code",
   "execution_count": 20,
   "metadata": {},
   "outputs": [],
   "source": [
    "# Load the annotation volume\n",
    "logging.info(f\"Loading annotation volume from {annotation_np_path}.\")\n",
    "annotation_np = np.int64(io.imread(annotation_np_path))\n"
   ]
  },
  {
   "cell_type": "code",
   "execution_count": 22,
   "metadata": {},
   "outputs": [],
   "source": [
    "# Match H5 files by channels for all animals\n",
    "logging.info(f\"Matching H5 files in {base_dir}.\")\n",
    "animals_files = match_h5_files_by_channels(base_dir)"
   ]
  },
  {
   "cell_type": "code",
   "execution_count": 23,
   "metadata": {},
   "outputs": [
    {
     "data": {
      "text/plain": [
       "{'ANM555600_PSD-HT_iDISCO': {'ch0': '/nrs/spruston/Boaz/I2/2024-09-09_Compare_iDISCO_EZCleat_THF/ANM555600_PSD-HT_iDISCO/uni_tp-0_ch-0_st-0-x00-y00_obj-right_cam-long_etc.lux.h5',\n",
       "  'ch1': '/nrs/spruston/Boaz/I2/2024-09-09_Compare_iDISCO_EZCleat_THF/ANM555600_PSD-HT_iDISCO/uni_tp-0_ch-1_st-0-x00-y00_obj-right_cam-long_etc.lux.h5',\n",
       "  'ch2': '/nrs/spruston/Boaz/I2/2024-09-09_Compare_iDISCO_EZCleat_THF/ANM555600_PSD-HT_iDISCO/uni_tp-0_ch-2_st-0-x00-y00_obj-right_cam-long_etc.lux.h5'},\n",
       " '20240916-140630_Task_77_iDISCO_C_RegisterEachChannel': {'ch0': '/nrs/spruston/Boaz/I2/2024-09-09_Compare_iDISCO_EZCleat_THF/ANM555600_PSD-HT_iDISCO/20240916-140630_Task_77_iDISCO_C_RegisterEachChannel/uni_tp-0_ch-0_st-0-x00-y00_obj-right_cam-long_etc.lux.h5',\n",
       "  'ch1': '/nrs/spruston/Boaz/I2/2024-09-09_Compare_iDISCO_EZCleat_THF/ANM555600_PSD-HT_iDISCO/20240916-140630_Task_77_iDISCO_C_RegisterEachChannel/uni_tp-0_ch-1_st-0-x00-y00_obj-right_cam-long_etc.lux.h5',\n",
       "  'ch2': '/nrs/spruston/Boaz/I2/2024-09-09_Compare_iDISCO_EZCleat_THF/ANM555600_PSD-HT_iDISCO/20240916-140630_Task_77_iDISCO_C_RegisterEachChannel/uni_tp-0_ch-2_st-0-x00-y00_obj-right_cam-long_etc.lux.h5'},\n",
       " '20240916-143257_Task_78_iDISCO_C_RegisterDifferentChannels': {'ch0': '/nrs/spruston/Boaz/I2/2024-09-09_Compare_iDISCO_EZCleat_THF/ANM555600_PSD-HT_iDISCO/20240916-143257_Task_78_iDISCO_C_RegisterDifferentChannels/uni_tp-0_ch-0_st-0-x00-y00_obj-right_cam-long_etc.lux.h5',\n",
       "  'ch1': '/nrs/spruston/Boaz/I2/2024-09-09_Compare_iDISCO_EZCleat_THF/ANM555600_PSD-HT_iDISCO/20240916-143257_Task_78_iDISCO_C_RegisterDifferentChannels/uni_tp-0_ch-1_st-0-x00-y00_obj-right_cam-long_etc.lux.h5',\n",
       "  'ch2': '/nrs/spruston/Boaz/I2/2024-09-09_Compare_iDISCO_EZCleat_THF/ANM555600_PSD-HT_iDISCO/20240916-143257_Task_78_iDISCO_C_RegisterDifferentChannels/uni_tp-0_ch-2_st-0-x00-y00_obj-right_cam-long_etc.lux.h5'},\n",
       " '20240909-211827_Task_76_EZClear_C': {'ch0': '/nrs/spruston/Boaz/I2/2024-09-09_Compare_iDISCO_EZCleat_THF/ANM555600_PSD_HT_EZClear/2024-09-09_141112/processed/20240909-211827_Task_76_EZClear_C/uni_tp-0_ch-0_st-0-x00-y00_obj-right_cam-long_etc.lux.h5',\n",
       "  'ch1': '/nrs/spruston/Boaz/I2/2024-09-09_Compare_iDISCO_EZCleat_THF/ANM555600_PSD_HT_EZClear/2024-09-09_141112/processed/20240909-211827_Task_76_EZClear_C/uni_tp-0_ch-1_st-0-x00-y00_obj-right_cam-long_etc.lux.h5',\n",
       "  'ch2': '/nrs/spruston/Boaz/I2/2024-09-09_Compare_iDISCO_EZCleat_THF/ANM555600_PSD_HT_EZClear/2024-09-09_141112/processed/20240909-211827_Task_76_EZClear_C/uni_tp-0_ch-2_st-0-x00-y00_obj-right_cam-long_etc.lux.h5'}}"
      ]
     },
     "execution_count": 23,
     "metadata": {},
     "output_type": "execute_result"
    }
   ],
   "source": [
    "animals_files"
   ]
  },
  {
   "cell_type": "code",
   "execution_count": 24,
   "metadata": {},
   "outputs": [
    {
     "data": {
      "text/plain": [
       "{'ch0': '/nrs/spruston/Boaz/I2/2024-09-09_Compare_iDISCO_EZCleat_THF/ANM555600_PSD-HT_iDISCO/uni_tp-0_ch-0_st-0-x00-y00_obj-right_cam-long_etc.lux.h5',\n",
       " 'ch1': '/nrs/spruston/Boaz/I2/2024-09-09_Compare_iDISCO_EZCleat_THF/ANM555600_PSD-HT_iDISCO/uni_tp-0_ch-1_st-0-x00-y00_obj-right_cam-long_etc.lux.h5',\n",
       " 'ch2': '/nrs/spruston/Boaz/I2/2024-09-09_Compare_iDISCO_EZCleat_THF/ANM555600_PSD-HT_iDISCO/uni_tp-0_ch-2_st-0-x00-y00_obj-right_cam-long_etc.lux.h5'}"
      ]
     },
     "execution_count": 24,
     "metadata": {},
     "output_type": "execute_result"
    }
   ],
   "source": [
    "# Get the files for the selected animal\n",
    "files = animals_files.get(animal)\n",
    "files"
   ]
  },
  {
   "cell_type": "code",
   "execution_count": null,
   "metadata": {},
   "outputs": [],
   "source": [
    "process_animal(animal, files, base_dir, fx, param_files, annotation_np)\n",
    "logging.info(\"Processing completed.\")"
   ]
  },
  {
   "cell_type": "markdown",
   "metadata": {},
   "source": [
    "# Multiple animals using bsub"
   ]
  },
  {
   "cell_type": "code",
   "execution_count": 22,
   "metadata": {},
   "outputs": [],
   "source": [
    "# Define parameters\n",
    "# base_dir = '/nrs/spruston/Boaz/I2/2024-09-19_iDISCO_CalibrationBrains'\n",
    "\n",
    "base_dir = '/nrs/spruston/Boaz/I2/2024-09-09_Compare_iDISCO_EZCleat_THF'\n",
    "fx = '/nrs/spruston/Boaz/I2/atlas10_hemi.tif'\n",
    "param_files_dir = '/nrs/spruston/Boaz/I2/itk'\n",
    "annotation_np = '/nrs/spruston/Boaz/I2/annotatin10_hemi.tif'\n",
    "python_script = os.path.abspath('../src/main.py')\n",
    "python_executable = sys.executable\n",
    "num_cores = 48"
   ]
  },
  {
   "cell_type": "code",
   "execution_count": 23,
   "metadata": {},
   "outputs": [
    {
     "data": {
      "text/plain": [
       "'/groups/spruston/home/moharb/DELTA_iDISCO/logs'"
      ]
     },
     "execution_count": 23,
     "metadata": {},
     "output_type": "execute_result"
    }
   ],
   "source": [
    "logs_dir = os.path.abspath('../logs')\n",
    "src_dir = os.path.abspath('../')\n",
    "# Create the logs directory if it doesn't exist\n",
    "os.makedirs(logs_dir, exist_ok=True)\n",
    "logs_dir"
   ]
  },
  {
   "cell_type": "code",
   "execution_count": 24,
   "metadata": {},
   "outputs": [],
   "source": [
    "animals = [\n",
    "   'ANM555600_PSD-HT_iDISCO'\n",
    "    # Add more animal IDs here if needed\n",
    "]"
   ]
  },
  {
   "cell_type": "code",
   "execution_count": 25,
   "metadata": {},
   "outputs": [
    {
     "name": "stdout",
     "output_type": "stream",
     "text": [
      "Submitting job for animal: ANM555600_PSD-HT_iDISCO\n",
      "['bsub', '-J', 'job_ANM555600_PSD-HT_iDISCO', '-n', '48', '-o', '/groups/spruston/home/moharb/DELTA_iDISCO/logs/output_ANM555600_PSD-HT_iDISCO.log', '-e', '/groups/spruston/home/moharb/DELTA_iDISCO/logs/error_ANM555600_PSD-HT_iDISCO.log', 'bash', '-c', 'cd /groups/spruston/home/moharb/DELTA_iDISCO/src && /groups/spruston/home/moharb/mambaforge/envs/pyants/bin/python /groups/spruston/home/moharb/DELTA_iDISCO/src/main.py --animal ANM555600_PSD-HT_iDISCO --base_dir /nrs/spruston/Boaz/I2/2024-09-09_Compare_iDISCO_EZCleat_THF --fx /nrs/spruston/Boaz/I2/atlas10_hemi.tif --param_files_dir /nrs/spruston/Boaz/I2/itk --annotation_np /nrs/spruston/Boaz/I2/annotatin10_hemi.tif']\n",
      "Job <141413662> is submitted to default queue <local>.\n"
     ]
    },
    {
     "name": "stderr",
     "output_type": "stream",
     "text": [
      "This job will be billed to spruston\n"
     ]
    }
   ],
   "source": [
    "for animal in animals:\n",
    "    # Construct the log file paths\n",
    "    output_log = os.path.join(logs_dir, f'output_{animal}.log')\n",
    "    error_log = os.path.join(logs_dir, f'error_{animal}.log')\n",
    "\n",
    "    # Construct the bsub command\n",
    "    # bsub_command = [\n",
    "    #     'bsub',\n",
    "    #     '-J', f'job_{animal}',  # Job name\n",
    "    #     '-n', str(num_cores),  # Number of CPU cores\n",
    "    #     '-o', output_log,  # Output log\n",
    "    #     '-e', error_log,  # Error log\n",
    "    #     python_executable,\n",
    "    #     python_script, \n",
    "    #     '--animal', animal,\n",
    "    #     '--base_dir', base_dir,\n",
    "    #     '--fx', fx,\n",
    "    #     '--param_files_dir', param_files_dir,\n",
    "    #     '--annotation_np', annotation_np\n",
    "    # ]\n",
    "    bsub_command = [\n",
    "        'bsub',\n",
    "        '-J', f'job_{animal}',  # Job name\n",
    "        '-n', str(num_cores),  # Number of CPU cores\n",
    "        '-o', output_log,  # Output log\n",
    "        '-e', error_log,  # Error log\n",
    "        'bash', '-c',  # Run the following as a bash command\n",
    "        f\"cd {src_dir} && {python_executable} {python_script} \"\n",
    "        f\"--animal {animal} --base_dir {base_dir} --fx {fx} \"\n",
    "        f\"--param_files_dir {param_files_dir} --annotation_np {annotation_np}\"\n",
    "    ]\n",
    "    \n",
    "    \n",
    "\n",
    "    # Submit the job to the cluster\n",
    "    print(f\"Submitting job for animal: {animal}\")\n",
    "    print(bsub_command)\n",
    "    subprocess.run(bsub_command)"
   ]
  },
  {
   "cell_type": "code",
   "execution_count": null,
   "metadata": {},
   "outputs": [],
   "source": []
  }
 ],
 "metadata": {
  "kernelspec": {
   "display_name": "Python 3 (ipykernel)",
   "language": "python",
   "name": "python3"
  },
  "language_info": {
   "codemirror_mode": {
    "name": "ipython",
    "version": 3
   },
   "file_extension": ".py",
   "mimetype": "text/x-python",
   "name": "python",
   "nbconvert_exporter": "python",
   "pygments_lexer": "ipython3",
   "version": "3.11.9"
  }
 },
 "nbformat": 4,
 "nbformat_minor": 4
}
