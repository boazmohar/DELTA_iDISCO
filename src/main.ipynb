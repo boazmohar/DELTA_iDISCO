{
 "cells": [
  {
   "cell_type": "code",
   "execution_count": 1,
   "metadata": {},
   "outputs": [],
   "source": [
    "import os\n",
    "import sys\n",
    "import subprocess\n",
    "from skimage import io\n",
    "import numpy as np\n",
    "import itk\n",
    "# Add the 'src' folder to the Python path\n",
    "sys.path.append(os.path.abspath('../'))\n",
    "from src.utils import match_h5_files_by_channels, setup_logging\n",
    "from src.registration import register_and_transform\n",
    "from src.stats import compute_region_stats\n",
    "import logging"
   ]
  },
  {
   "cell_type": "markdown",
   "metadata": {},
   "source": [
    "# single animal"
   ]
  },
  {
   "cell_type": "code",
   "execution_count": 3,
   "metadata": {},
   "outputs": [],
   "source": [
    "def process_animal(animal, files, base_dir, fx, param_files, annotation_np):\n",
    "    \"\"\"\n",
    "    Process a single animal by:\n",
    "    - Registering and transforming the images\n",
    "    - Computing regional statistics\n",
    "    \"\"\"\n",
    "    output_dir = os.path.join(base_dir, animal, 'itk')  # Ensure logs and outputs go to /itk\n",
    "    \n",
    "    # Create the output directory if it doesn't exist\n",
    "    os.makedirs(output_dir, exist_ok=True)\n",
    "\n",
    "    # Step 1: Register and Transform\n",
    "    logging.info(\"Starting registration and transformation.\")\n",
    "    register_and_transform(fx, files, output_dir, param_files)\n",
    "    logging.info(\"Finished registration and transformation.\")\n",
    "\n",
    "    # Step 2: Compute Region Statistics\n",
    "    logging.info(\"Starting computation of region statistics.\")\n",
    "    compute_region_stats(files, output_dir, annotation_np)\n",
    "    logging.info(\"Finished computation of region statistics.\")\n",
    "    \n",
    "    # Log the location of the logs and output files\n",
    "    log_file = os.path.join(output_dir, f'registration_log_{animal}.txt')\n",
    "    logging.info(f\"Processing logs and outputs are saved in: {log_file}\")"
   ]
  },
  {
   "cell_type": "code",
   "execution_count": 4,
   "metadata": {},
   "outputs": [],
   "source": [
    "# Set the parameters manually here\n",
    "animal = 'ANM550749_left_JF552'\n",
    "base_dir = '/nrs/spruston/Boaz/I2/2024-09-19_iDISCO_CalibrationBrains'\n",
    "fx_path = '/nrs/spruston/Boaz/I2/atlas10_hemi.tif'\n",
    "param_files_dir = '/nrs/spruston/Boaz/I2/itk'\n",
    "annotation_np_path = '/nrs/spruston/Boaz/I2/annotatin10_hemi.tif'"
   ]
  },
  {
   "cell_type": "code",
   "execution_count": null,
   "metadata": {},
   "outputs": [],
   "source": [
    "setup_logging(base_dir, animal)\n",
    "\n",
    "# Load the fixed image (fx)\n",
    "logging.info(f\"Loading fixed image (fx) from {fx_path}.\")\n",
    "fx = itk.imread(fx_path, pixel_type=itk.US)\n",
    "\n",
    "# Load the parameter files\n",
    "param_files = [\n",
    "    os.path.join(param_files_dir, 'Order1_Par0000affine.txt'),\n",
    "    os.path.join(param_files_dir, 'Order3_Par0000bspline.txt'),\n",
    "    os.path.join(param_files_dir, 'Order4_Par0000bspline.txt'),\n",
    "    os.path.join(param_files_dir, 'Order5_Par0000bspline.txt')\n",
    "]\n",
    "logging.info(f\"Loaded parameter files from {param_files_dir}.\")\n",
    "\n"
   ]
  },
  {
   "cell_type": "code",
   "execution_count": null,
   "metadata": {},
   "outputs": [],
   "source": [
    "# Load the annotation volume\n",
    "logging.info(f\"Loading annotation volume from {annotation_np_path}.\")\n",
    "annotation_np = np.int64(io.imread(annotation_np_path))\n"
   ]
  },
  {
   "cell_type": "code",
   "execution_count": null,
   "metadata": {},
   "outputs": [],
   "source": [
    "# Match H5 files by channels for all animals\n",
    "logging.info(f\"Matching H5 files in {base_dir}.\")\n",
    "animals_files = match_h5_files_by_channels(base_dir)"
   ]
  },
  {
   "cell_type": "code",
   "execution_count": null,
   "metadata": {},
   "outputs": [],
   "source": [
    "# Get the files for the selected animal\n",
    "files = animals_files.get(animal)\n",
    "files"
   ]
  },
  {
   "cell_type": "code",
   "execution_count": null,
   "metadata": {},
   "outputs": [],
   "source": [
    "process_animal(animal, files, base_dir, fx, param_files, annotation_np)\n",
    "logging.info(\"Processing completed.\")"
   ]
  },
  {
   "cell_type": "markdown",
   "metadata": {},
   "source": [
    "# Multiple animals using bsub"
   ]
  },
  {
   "cell_type": "code",
   "execution_count": null,
   "metadata": {},
   "outputs": [],
   "source": [
    "# Define parameters\n",
    "base_dir = '/nrs/spruston/Boaz/I2/2024-09-19_iDISCO_CalibrationBrains'\n",
    "fx = '/nrs/spruston/Boaz/I2/atlas10_hemi.tif'\n",
    "param_files_dir = '/nrs/spruston/Boaz/I2/itk'\n",
    "annotation_np = '/nrs/spruston/Boaz/I2/annotatin10_hemi.tif'\n",
    "python_script = '../src/main.py'  \n",
    "num_cores = 48\n"
   ]
  },
  {
   "cell_type": "code",
   "execution_count": null,
   "metadata": {},
   "outputs": [],
   "source": [
    "logs_dir = '../logs'\n",
    "# Create the logs directory if it doesn't exist\n",
    "os.makedirs(logs_dir, exist_ok=True)"
   ]
  },
  {
   "cell_type": "code",
   "execution_count": null,
   "metadata": {},
   "outputs": [],
   "source": [
    "animals = [\n",
    "    \"ANM550749_left_JF552\",\n",
    "    \"ANM550751_left_JF673\",\n",
    "    \"ANM551089_left_JF673\",\n",
    "    # Add more animal IDs here if needed\n",
    "]"
   ]
  },
  {
   "cell_type": "code",
   "execution_count": null,
   "metadata": {},
   "outputs": [],
   "source": [
    "for animal in animals:\n",
    "    # Construct the log file paths\n",
    "    output_log = os.path.join(logs_dir, f'output_{animal}.log')\n",
    "    error_log = os.path.join(logs_dir, f'error_{animal}.log')\n",
    "\n",
    "    # Construct the bsub command\n",
    "    bsub_command = [\n",
    "        'bsub',\n",
    "        '-J', f'job_{animal}',  # Job name\n",
    "        '-n', str(num_cores),  # Number of CPU cores\n",
    "        '-o', output_log,  # Output log\n",
    "        '-e', error_log,  # Error log\n",
    "        'python', python_script, \n",
    "        '--animal', animal,\n",
    "        '--base_dir', base_dir,\n",
    "        '--fx', fx,\n",
    "        '--param_files_dir', param_files_dir,\n",
    "        '--annotation_np', annotation_np\n",
    "    ]\n",
    "\n",
    "    # Submit the job to the cluster\n",
    "    print(f\"Submitting job for animal: {animal}\")\n",
    "    subprocess.run(bsub_command)"
   ]
  }
 ],
 "metadata": {
  "kernelspec": {
   "display_name": "pyants",
   "language": "python",
   "name": "python3"
  },
  "language_info": {
   "codemirror_mode": {
    "name": "ipython",
    "version": 3
   },
   "file_extension": ".py",
   "mimetype": "text/x-python",
   "name": "python",
   "nbconvert_exporter": "python",
   "pygments_lexer": "ipython3",
   "version": "3.11.9"
  }
 },
 "nbformat": 4,
 "nbformat_minor": 2
}
