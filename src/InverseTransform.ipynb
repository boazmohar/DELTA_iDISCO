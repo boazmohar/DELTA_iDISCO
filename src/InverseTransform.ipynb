{
 "cells": [
  {
   "cell_type": "code",
   "execution_count": 2,
   "metadata": {},
   "outputs": [],
   "source": [
    "import os\n",
    "import sys\n",
    "import subprocess\n",
    "import numpy as np\n",
    "import itk\n",
    "# Add the 'src' folder to the Python path\n",
    "sys.path.append(os.path.abspath('../'))\n",
    "from src.DELAT_utils import match_h5_files_by_channels, setup_logging, collect_region_stats_paths\n",
    "from src.registration import register_and_transform\n",
    "from src.stats import compute_region_stats\n",
    "import logging"
   ]
  },
  {
   "cell_type": "code",
   "execution_count": 3,
   "metadata": {},
   "outputs": [],
   "source": [
    "animal = 'ANM550749_left_JF552'\n",
    "base_dir = r'X:\\Boaz\\I2\\2024-09-19_iDISCO_CalibrationBrains'\n",
    "\n",
    "# Set the parameters manually here\n",
    "\n",
    "fx_path =  r'X:\\Boaz\\I2\\atlas10_hemi.tif'\n",
    "param_files_dir = r'X:\\Boaz\\I2\\itk'\n",
    "annotation_path =  r'X:\\Boaz\\I2\\annotation_10_hemi.nii'"
   ]
  },
  {
   "cell_type": "code",
   "execution_count": 4,
   "metadata": {},
   "outputs": [
    {
     "name": "stderr",
     "output_type": "stream",
     "text": [
      "2024-11-13 21:29:00 - INFO - Logging initialized for animal processing.\n",
      "2024-11-13 21:29:00 - INFO - Loading fixed image (fx) from X:\\Boaz\\I2\\atlas10_hemi.tif.\n",
      "2024-11-13 21:29:17 - INFO - Loaded parameter files from X:\\Boaz\\I2\\itk.\n"
     ]
    }
   ],
   "source": [
    "logger = setup_logging(base_dir, animal)\n",
    "# Load the fixed image (fx)\n",
    "logger.info(f\"Loading fixed image (fx) from {fx_path}.\")\n",
    "fx = itk.imread(fx_path, pixel_type=itk.US)\n",
    "\n",
    "# Load the parameter files\n",
    "param_files = [\n",
    "    os.path.join(param_files_dir, 'Order1_Par0000affine.txt'),\n",
    "    os.path.join(param_files_dir, 'Order3_Par0000bspline.txt'),\n",
    "    os.path.join(param_files_dir, 'Order4_Par0000bspline.txt'),\n",
    "    os.path.join(param_files_dir, 'Order5_Par0000bspline.txt')\n",
    "]\n",
    "logger.info(f\"Loaded parameter files from {param_files_dir}.\")\n",
    "\n"
   ]
  },
  {
   "cell_type": "code",
   "execution_count": 5,
   "metadata": {},
   "outputs": [
    {
     "name": "stderr",
     "output_type": "stream",
     "text": [
      "2024-11-13 21:29:17 - INFO - Loading annotation volume from X:\\Boaz\\I2\\annotation_10_hemi.nii.\n"
     ]
    },
    {
     "data": {
      "text/plain": [
       "(dtype('uint64'), (800, 1320, 658))"
      ]
     },
     "execution_count": 5,
     "metadata": {},
     "output_type": "execute_result"
    }
   ],
   "source": [
    "# Load the annotation volume\n",
    "logger.info(f\"Loading annotation volume from {annotation_path}.\")\n",
    "itk_annotation = itk.imread(annotation_path, itk.ULL)\n",
    "annotation_np = itk.array_view_from_image(itk_annotation)\n",
    "annotation_np.dtype, annotation_np.shape\n"
   ]
  },
  {
   "cell_type": "code",
   "execution_count": 6,
   "metadata": {},
   "outputs": [
    {
     "name": "stderr",
     "output_type": "stream",
     "text": [
      "2024-11-13 21:30:10 - INFO - Matching H5 files in X:\\Boaz\\I2\\2024-09-19_iDISCO_CalibrationBrains.\n"
     ]
    },
    {
     "data": {
      "text/plain": [
       "{'ANM549057_left_JF552': {'ch0': 'X:\\\\Boaz\\\\I2\\\\2024-09-19_iDISCO_CalibrationBrains\\\\ANM549057_left_JF552\\\\uni_tp-0_ch-0_st-0-x00-y00_obj-right_cam-long_etc.lux.h5',\n",
       "  'ch1': 'X:\\\\Boaz\\\\I2\\\\2024-09-19_iDISCO_CalibrationBrains\\\\ANM549057_left_JF552\\\\uni_tp-0_ch-1_st-0-x00-y00_obj-right_cam-long_etc.lux.h5',\n",
       "  'ch2': 'X:\\\\Boaz\\\\I2\\\\2024-09-19_iDISCO_CalibrationBrains\\\\ANM549057_left_JF552\\\\uni_tp-0_ch-2_st-0-x00-y00_obj-right_cam-long_etc.lux.h5'},\n",
       " 'ANM550749_left_JF552': {'ch0': 'X:\\\\Boaz\\\\I2\\\\2024-09-19_iDISCO_CalibrationBrains\\\\ANM550749_left_JF552\\\\uni_tp-0_ch-0_st-0-x00-y00_obj-right_cam-long_etc.lux.h5',\n",
       "  'ch1': 'X:\\\\Boaz\\\\I2\\\\2024-09-19_iDISCO_CalibrationBrains\\\\ANM550749_left_JF552\\\\uni_tp-0_ch-1_st-0-x00-y00_obj-right_cam-long_etc.lux.h5',\n",
       "  'ch2': 'X:\\\\Boaz\\\\I2\\\\2024-09-19_iDISCO_CalibrationBrains\\\\ANM550749_left_JF552\\\\uni_tp-0_ch-2_st-0-x00-y00_obj-right_cam-long_etc.lux.h5'},\n",
       " 'ANM550751_left_JF673': {'ch0': 'X:\\\\Boaz\\\\I2\\\\2024-09-19_iDISCO_CalibrationBrains\\\\ANM550751_left_JF673\\\\uni_tp-0_ch-0_st-0-x00-y00_obj-right_cam-long_etc.lux.h5',\n",
       "  'ch1': 'X:\\\\Boaz\\\\I2\\\\2024-09-19_iDISCO_CalibrationBrains\\\\ANM550751_left_JF673\\\\uni_tp-0_ch-1_st-0-x00-y00_obj-right_cam-long_etc.lux.h5',\n",
       "  'ch2': 'X:\\\\Boaz\\\\I2\\\\2024-09-19_iDISCO_CalibrationBrains\\\\ANM550751_left_JF673\\\\uni_tp-0_ch-2_st-0-x00-y00_obj-right_cam-long_etc.lux.h5'},\n",
       " 'ANM551089_left_JF673': {'ch0': 'X:\\\\Boaz\\\\I2\\\\2024-09-19_iDISCO_CalibrationBrains\\\\ANM551089_left_JF673\\\\uni_tp-0_ch-0_st-0-x00-y00_obj-right_cam-long_etc.lux.h5',\n",
       "  'ch1': 'X:\\\\Boaz\\\\I2\\\\2024-09-19_iDISCO_CalibrationBrains\\\\ANM551089_left_JF673\\\\uni_tp-0_ch-1_st-0-x00-y00_obj-right_cam-long_etc.lux.h5',\n",
       "  'ch2': 'X:\\\\Boaz\\\\I2\\\\2024-09-19_iDISCO_CalibrationBrains\\\\ANM551089_left_JF673\\\\uni_tp-0_ch-2_st-0-x00-y00_obj-right_cam-long_etc.lux.h5'}}"
      ]
     },
     "execution_count": 6,
     "metadata": {},
     "output_type": "execute_result"
    }
   ],
   "source": [
    "# Match H5 files by channels for all animals\n",
    "logger.info(f\"Matching H5 files in {base_dir}.\")\n",
    "animals_files = match_h5_files_by_channels(base_dir)\n",
    "animals_files"
   ]
  },
  {
   "cell_type": "code",
   "execution_count": 7,
   "metadata": {},
   "outputs": [
    {
     "data": {
      "text/plain": [
       "{'ch0': 'X:\\\\Boaz\\\\I2\\\\2024-09-19_iDISCO_CalibrationBrains\\\\ANM550749_left_JF552\\\\uni_tp-0_ch-0_st-0-x00-y00_obj-right_cam-long_etc.lux.h5',\n",
       " 'ch1': 'X:\\\\Boaz\\\\I2\\\\2024-09-19_iDISCO_CalibrationBrains\\\\ANM550749_left_JF552\\\\uni_tp-0_ch-1_st-0-x00-y00_obj-right_cam-long_etc.lux.h5',\n",
       " 'ch2': 'X:\\\\Boaz\\\\I2\\\\2024-09-19_iDISCO_CalibrationBrains\\\\ANM550749_left_JF552\\\\uni_tp-0_ch-2_st-0-x00-y00_obj-right_cam-long_etc.lux.h5'}"
      ]
     },
     "execution_count": 7,
     "metadata": {},
     "output_type": "execute_result"
    }
   ],
   "source": [
    "files = animals_files.get(animal)\n",
    "files"
   ]
  },
  {
   "cell_type": "code",
   "execution_count": 8,
   "metadata": {},
   "outputs": [
    {
     "name": "stderr",
     "output_type": "stream",
     "text": [
      "2024-11-13 21:30:10 - INFO - Using output dir: X:\\Boaz\\I2\\2024-09-19_iDISCO_CalibrationBrains\\ANM550749_left_JF552\\itk\n"
     ]
    }
   ],
   "source": [
    "output_dir = os.path.join(base_dir, animal, 'itk')  # Ensure logs and outputs go to /itk\n",
    "# Create the output directory if it doesn't exist\n",
    "os.makedirs(output_dir, exist_ok=True)\n",
    "logger.info(f\"Using output dir: {output_dir}\")"
   ]
  },
  {
   "cell_type": "code",
   "execution_count": 14,
   "metadata": {},
   "outputs": [],
   "source": [
    "def invert_affine_transform(parameter_file):\n",
    "    # Load the affine transformation\n",
    "    transform = itk.ParameterObject.New()\n",
    "    transform.AddParameterFile(parameter_file)\n",
    "    matrix = np.array(transform.GetParameter(0, 'TransformParameters'))[:9].astype(float).reshape(3, 3)\n",
    "    translation = np.array(transform.GetParameter(0, 'TransformParameters')[9:12]).astype(float)\n",
    "\n",
    "    # Invert the matrix\n",
    "    inv_matrix = np.linalg.inv(matrix)\n",
    "    inv_translation = -inv_matrix @ translation\n",
    "\n",
    "    # Create an inverse transformation file\n",
    "    inv_transform_params = list(map(str, inv_matrix.flatten())) + list(map(str, inv_translation))\n",
    "    \n",
    "    # Create a new ParameterObject with the inverted transformation\n",
    "    inverted_transform = itk.ParameterObject.New()\n",
    "    inverted_transform.AddParameterFile(parameter_file)\n",
    "    inverted_transform.SetParameter(0, 'TransformParameters', inv_transform_params)\n",
    "    return inverted_transform"
   ]
  },
  {
   "cell_type": "code",
   "execution_count": 15,
   "metadata": {},
   "outputs": [],
   "source": [
    "affine = os.path.join(output_dir, 'TransformParameters.0.txt')\n",
    "inverse_affine = invert_affine_transform(affine)"
   ]
  },
  {
   "cell_type": "code",
   "execution_count": null,
   "metadata": {},
   "outputs": [],
   "source": [
    "affine"
   ]
  },
  {
   "cell_type": "code",
   "execution_count": 18,
   "metadata": {},
   "outputs": [
    {
     "data": {
      "text/plain": [
       "<itk.elxParameterObjectPython.elastixParameterObject; proxy of <Swig Object of type 'elastixParameterObject *' at 0x000001A1297AE6D0> >"
      ]
     },
     "execution_count": 18,
     "metadata": {},
     "output_type": "execute_result"
    }
   ],
   "source": [
    "inverse_affine"
   ]
  },
  {
   "cell_type": "code",
   "execution_count": 19,
   "metadata": {},
   "outputs": [
    {
     "name": "stderr",
     "output_type": "stream",
     "text": [
      "2024-11-13 21:34:12 - INFO - Register_and_transform started, set ITK to use 48.0 threads.\n"
     ]
    }
   ],
   "source": [
    "num_cores = os.cpu_count()  \n",
    "itk.MultiThreaderBase.SetGlobalDefaultNumberOfThreads(48)\n",
    "logger.info(f\"Register_and_transform started, set ITK to use {num_cores/2} threads.\")"
   ]
  },
  {
   "cell_type": "code",
   "execution_count": 20,
   "metadata": {},
   "outputs": [],
   "source": [
    "\n",
    "from DELAT_utils import read_h5_image"
   ]
  },
  {
   "cell_type": "code",
   "execution_count": 21,
   "metadata": {},
   "outputs": [],
   "source": [
    "mv = read_h5_image(files['ch0'], 'Data')"
   ]
  },
  {
   "cell_type": "code",
   "execution_count": null,
   "metadata": {},
   "outputs": [],
   "source": [
    "inverse_affine"
   ]
  },
  {
   "cell_type": "code",
   "execution_count": 23,
   "metadata": {},
   "outputs": [],
   "source": [
    "inverse_affine.WriteParameterFile(inverse_affine.GetParameterMap(0), \n",
    "                                   os.path.join(output_dir, 'inverse_affine.txt'))"
   ]
  },
  {
   "cell_type": "code",
   "execution_count": 25,
   "metadata": {},
   "outputs": [],
   "source": [
    "init_affine = os.path.join(output_dir, 'inverse_affine.txt')"
   ]
  },
  {
   "cell_type": "code",
   "execution_count": 45,
   "metadata": {},
   "outputs": [],
   "source": [
    "parameter_object = itk.ParameterObject.New()\n",
    "parameter_object.AddParameterFile(init_affine)\n",
    "# Set up Transformix filter to apply the transformation\n",
    "transformix_filter = itk.TransformixFilter.New(Input=fx, TransformParameterObject=parameter_object)\n",
    "transformix_filter.SetComputeSpatialJacobian(False)\n",
    "transformix_filter.SetComputeDeterminantOfSpatialJacobian(False)\n",
    "transformix_filter.SetComputeDeformationField(False)\n",
    "transformix_filter.Update()\n",
    "\n",
    "# Get the transformed image\n",
    "transformed_image = transformix_filter.GetOutput()\n",
    "\n",
    "# Save the transformed image\n",
    "itk.imwrite(transformed_image,  os.path.join(output_dir,'test_atlas.tif'))"
   ]
  },
  {
   "cell_type": "code",
   "execution_count": 31,
   "metadata": {},
   "outputs": [],
   "source": [
    "def update_transformix_parameters(transform_file, target_image):\n",
    "    # Load parameters from the transform file\n",
    "    with open(transform_file, 'r') as file:\n",
    "        lines = file.readlines()\n",
    "    \n",
    "    # Get target image properties\n",
    "    size = \" \".join(map(str, itk.size(target_image)))\n",
    "    spacing = \" \".join(map(str, itk.spacing(target_image)))\n",
    "    origin = \" \".join(map(str, itk.origin(target_image)))\n",
    "    \n",
    "    # Update lines with the size, spacing, and origin from the target image\n",
    "    updated_lines = []\n",
    "    for line in lines:\n",
    "        if line.startswith(\"(Size \"):\n",
    "            updated_lines.append(f\"(Size {size})\\n\")\n",
    "        elif line.startswith(\"(Spacing \"):\n",
    "            updated_lines.append(f\"(Spacing {spacing})\\n\")\n",
    "        elif line.startswith(\"(Origin \"):\n",
    "            updated_lines.append(f\"(Origin {origin})\\n\")\n",
    "        else:\n",
    "            updated_lines.append(line)\n",
    "    \n",
    "    # Save the modified parameter file\n",
    "    with open(transform_file, 'w') as file:\n",
    "        file.writelines(updated_lines)\n",
    "    print(f\"Updated transform file saved to {transform_file}\")"
   ]
  },
  {
   "cell_type": "code",
   "execution_count": 42,
   "metadata": {},
   "outputs": [
    {
     "ename": "AttributeError",
     "evalue": "'itkImageUS3' object has no attribute 'GetSize'",
     "output_type": "error",
     "traceback": [
      "\u001b[1;31m---------------------------------------------------------------------------\u001b[0m",
      "\u001b[1;31mAttributeError\u001b[0m                            Traceback (most recent call last)",
      "Cell \u001b[1;32mIn[42], line 1\u001b[0m\n\u001b[1;32m----> 1\u001b[0m \u001b[43mfx\u001b[49m\u001b[38;5;241;43m.\u001b[39;49m\u001b[43mGetSize\u001b[49m()\n",
      "\u001b[1;31mAttributeError\u001b[0m: 'itkImageUS3' object has no attribute 'GetSize'"
     ]
    }
   ],
   "source": [
    "fx.GetSize()"
   ]
  },
  {
   "cell_type": "code",
   "execution_count": 43,
   "metadata": {},
   "outputs": [
    {
     "name": "stdout",
     "output_type": "stream",
     "text": [
      "Updated transform file saved to X:\\Boaz\\I2\\2024-09-19_iDISCO_CalibrationBrains\\ANM550749_left_JF552\\itk\\inverse_affine.txt\n"
     ]
    }
   ],
   "source": [
    "update_transformix_parameters(init_affine, mv_itk)"
   ]
  },
  {
   "cell_type": "code",
   "execution_count": null,
   "metadata": {},
   "outputs": [],
   "source": []
  },
  {
   "cell_type": "code",
   "execution_count": 22,
   "metadata": {},
   "outputs": [
    {
     "ename": "TypeError",
     "evalue": "in method 'elastixParameterObject_AddParameterFile', argument 2 of type 'std::string const &'",
     "output_type": "error",
     "traceback": [
      "\u001b[1;31m---------------------------------------------------------------------------\u001b[0m",
      "\u001b[1;31mTypeError\u001b[0m                                 Traceback (most recent call last)",
      "Cell \u001b[1;32mIn[22], line 2\u001b[0m\n\u001b[0;32m      1\u001b[0m parameter_object \u001b[38;5;241m=\u001b[39m itk\u001b[38;5;241m.\u001b[39mParameterObject\u001b[38;5;241m.\u001b[39mNew()\n\u001b[1;32m----> 2\u001b[0m \u001b[43mparameter_object\u001b[49m\u001b[38;5;241;43m.\u001b[39;49m\u001b[43mAddParameterFile\u001b[49m\u001b[43m(\u001b[49m\u001b[43minverse_affine\u001b[49m\u001b[43m)\u001b[49m  \u001b[38;5;66;03m# Add initial transformation first\u001b[39;00m\n\u001b[0;32m      3\u001b[0m \u001b[38;5;28;01mfor\u001b[39;00m p \u001b[38;5;129;01min\u001b[39;00m param_files:\n\u001b[0;32m      4\u001b[0m     parameter_object\u001b[38;5;241m.\u001b[39mAddParameterFile(p)  \u001b[38;5;66;03m# Add the rest of the registration parameters\u001b[39;00m\n",
      "File \u001b[1;32mc:\\ProgramData\\miniforge3\\envs\\pyants\\Lib\\site-packages\\itk\\elxParameterObjectPython.py:529\u001b[0m, in \u001b[0;36melastixParameterObject.AddParameterFile\u001b[1;34m(self, parameterFileName)\u001b[0m\n\u001b[0;32m    520\u001b[0m \u001b[38;5;28;01mdef\u001b[39;00m \u001b[38;5;21mAddParameterFile\u001b[39m(\u001b[38;5;28mself\u001b[39m, parameterFileName):\n\u001b[0;32m    521\u001b[0m \u001b[38;5;250m    \u001b[39m\u001b[38;5;124mr\u001b[39m\u001b[38;5;124;03m\"\"\"\u001b[39;00m\n\u001b[0;32m    522\u001b[0m \u001b[38;5;124;03m    AddParameterFile(self, parameterFileName)\u001b[39;00m\n\u001b[0;32m    523\u001b[0m \n\u001b[1;32m   (...)\u001b[0m\n\u001b[0;32m    527\u001b[0m \n\u001b[0;32m    528\u001b[0m \u001b[38;5;124;03m    \"\"\"\u001b[39;00m\n\u001b[1;32m--> 529\u001b[0m     \u001b[38;5;28;01mreturn\u001b[39;00m \u001b[43m_elxParameterObjectPython\u001b[49m\u001b[38;5;241;43m.\u001b[39;49m\u001b[43melastixParameterObject_AddParameterFile\u001b[49m\u001b[43m(\u001b[49m\u001b[38;5;28;43mself\u001b[39;49m\u001b[43m,\u001b[49m\u001b[43m \u001b[49m\u001b[43mparameterFileName\u001b[49m\u001b[43m)\u001b[49m\n",
      "\u001b[1;31mTypeError\u001b[0m: in method 'elastixParameterObject_AddParameterFile', argument 2 of type 'std::string const &'"
     ]
    }
   ],
   "source": [
    "parameter_object = itk.ParameterObject.New()\n",
    "parameter_object.AddParameterFile(inverse_affine)  # Add initial transformation first\n",
    "for p in param_files:\n",
    "    parameter_object.AddParameterFile(p)  # Add the rest of the registration parameters\n",
    "\n",
    "logger.info(\"Initial and parameter files read\")\n",
    "\n",
    "logger.info(\"param files read\")\n",
    "# Create output directory if it doesn't exist\n",
    "if not os.path.isdir(output_dir):\n",
    "    os.makedirs(output_dir, exist_ok=True)\n",
    "    logger.info(f\"Created output directory {output_dir}\")\n",
    "\n"
   ]
  },
  {
   "cell_type": "code",
   "execution_count": 29,
   "metadata": {},
   "outputs": [
    {
     "data": {
      "text/plain": [
       "<itk.itkImagePython.itkImageUS3; proxy of <Swig Object of type 'itkImageUS3 *' at 0x00000290C7F7EE80> >"
      ]
     },
     "execution_count": 29,
     "metadata": {},
     "output_type": "execute_result"
    }
   ],
   "source": [
    "reference_image =  itk.image_from_array(mv)\n",
    "reference_image"
   ]
  },
  {
   "cell_type": "code",
   "execution_count": null,
   "metadata": {},
   "outputs": [],
   "source": [
    "reference_image.SetSpacing([10.0, 10.0, 10.0])  # Replace with actual spacing if known\n",
    "reference_image.SetOrigin([0.0, 0.0, 0.0])\n",
    "reference_image.SetDirection(itk.Matrix[itk.D, 3, 3]())  # Identity matrix for direction"
   ]
  },
  {
   "cell_type": "code",
   "execution_count": null,
   "metadata": {},
   "outputs": [],
   "source": [
    "itk"
   ]
  },
  {
   "cell_type": "code",
   "execution_count": 48,
   "metadata": {},
   "outputs": [
    {
     "ename": "RuntimeError",
     "evalue": "D:\\a\\im\\build\\cp311-abi3-win_amd64\\_deps\\elx-src\\Core\\Main\\itkTransformixFilter.hxx:379:\nITK ERROR: No entry Spacing found in transformParameterMap",
     "output_type": "error",
     "traceback": [
      "\u001b[1;31m---------------------------------------------------------------------------\u001b[0m",
      "\u001b[1;31mRuntimeError\u001b[0m                              Traceback (most recent call last)",
      "Cell \u001b[1;32mIn[48], line 6\u001b[0m\n\u001b[0;32m      4\u001b[0m transformix_filter\u001b[38;5;241m.\u001b[39mSetOutputDirectory(output_dir)\n\u001b[0;32m      5\u001b[0m transformix_filter\u001b[38;5;241m.\u001b[39mSetLogToConsole(\u001b[38;5;28;01mTrue\u001b[39;00m)\n\u001b[1;32m----> 6\u001b[0m \u001b[43mtransformix_filter\u001b[49m\u001b[38;5;241;43m.\u001b[39;49m\u001b[43mUpdateLargestPossibleRegion\u001b[49m\u001b[43m(\u001b[49m\u001b[43m)\u001b[49m\n\u001b[0;32m      7\u001b[0m transformix_filter\u001b[38;5;241m.\u001b[39mSetOutputDirectory(output_dir)\n\u001b[0;32m      8\u001b[0m transformix_filter\u001b[38;5;241m.\u001b[39mUpdate()\n",
      "File \u001b[1;32mc:\\ProgramData\\miniforge3\\envs\\pyants\\Lib\\site-packages\\itk\\ITKCommonBasePython.py:3115\u001b[0m, in \u001b[0;36mitkProcessObject.UpdateLargestPossibleRegion\u001b[1;34m(self)\u001b[0m\n\u001b[0;32m   3113\u001b[0m \u001b[38;5;28;01mdef\u001b[39;00m \u001b[38;5;21mUpdateLargestPossibleRegion\u001b[39m(\u001b[38;5;28mself\u001b[39m):\n\u001b[0;32m   3114\u001b[0m \u001b[38;5;250m    \u001b[39m\u001b[38;5;124mr\u001b[39m\u001b[38;5;124;03m\"\"\"UpdateLargestPossibleRegion(self)\"\"\"\u001b[39;00m\n\u001b[1;32m-> 3115\u001b[0m     \u001b[38;5;28;01mreturn\u001b[39;00m \u001b[43m_ITKCommonBasePython\u001b[49m\u001b[38;5;241;43m.\u001b[39;49m\u001b[43mitkProcessObject_UpdateLargestPossibleRegion\u001b[49m\u001b[43m(\u001b[49m\u001b[38;5;28;43mself\u001b[39;49m\u001b[43m)\u001b[49m\n",
      "\u001b[1;31mRuntimeError\u001b[0m: D:\\a\\im\\build\\cp311-abi3-win_amd64\\_deps\\elx-src\\Core\\Main\\itkTransformixFilter.hxx:379:\nITK ERROR: No entry Spacing found in transformParameterMap"
     ]
    }
   ],
   "source": [
    "transformix_filter = itk.TransformixFilter[itk.Image[itk.F, 3]].New()\n",
    "transformix_filter.SetTransformParameterObject(params)\n",
    "transformix_filter.SetMovingImage(reference_image)\n",
    "transformix_filter.SetOutputDirectory(output_dir)\n",
    "transformix_filter.SetLogToConsole(True)\n",
    "transformix_filter.UpdateLargestPossibleRegion()\n",
    "transformix_filter.SetOutputDirectory(output_dir)\n",
    "transformix_filter.Update()"
   ]
  },
  {
   "cell_type": "code",
   "execution_count": 41,
   "metadata": {},
   "outputs": [
    {
     "name": "stdout",
     "output_type": "stream",
     "text": [
      "<itkTemplate itk::TransformixFilter>\n",
      "Options:\n",
      "  [<class 'itk.itkImagePython.itkImageD2'>,]\n",
      "  [<class 'itk.itkImagePython.itkImageD3'>,]\n",
      "  [<class 'itk.itkImagePython.itkImageD4'>,]\n",
      "  [<class 'itk.itkImagePython.itkImageF2'>,]\n",
      "  [<class 'itk.itkImagePython.itkImageF3'>,]\n",
      "  [<class 'itk.itkImagePython.itkImageF4'>,]\n",
      "  [<class 'itk.itkImagePython.itkImageSS2'>,]\n",
      "  [<class 'itk.itkImagePython.itkImageSS3'>,]\n",
      "  [<class 'itk.itkImagePython.itkImageSS4'>,]\n",
      "  [<class 'itk.itkImagePython.itkImageUC2'>,]\n",
      "  [<class 'itk.itkImagePython.itkImageUC3'>,]\n",
      "  [<class 'itk.itkImagePython.itkImageUC4'>,]\n",
      "  [<class 'itk.itkImagePython.itkImageUS2'>,]\n",
      "  [<class 'itk.itkImagePython.itkImageUS3'>,]\n",
      "  [<class 'itk.itkImagePython.itkImageUS4'>,]\n"
     ]
    }
   ],
   "source": [
    "itk.TransformixFilter.GetTypes()"
   ]
  },
  {
   "cell_type": "code",
   "execution_count": 42,
   "metadata": {},
   "outputs": [
    {
     "data": {
      "text/plain": [
       "<itk.itkTransformixFilterPython.itkTransformixFilterISS2; proxy of <Swig Object of type 'itkTransformixFilterISS2 *' at 0x00000290C86B2430> >"
      ]
     },
     "execution_count": 42,
     "metadata": {},
     "output_type": "execute_result"
    }
   ],
   "source": [
    "transformix_filter"
   ]
  },
  {
   "cell_type": "code",
   "execution_count": null,
   "metadata": {},
   "outputs": [],
   "source": []
  }
 ],
 "metadata": {
  "kernelspec": {
   "display_name": "pyants",
   "language": "python",
   "name": "python3"
  },
  "language_info": {
   "codemirror_mode": {
    "name": "ipython",
    "version": 3
   },
   "file_extension": ".py",
   "mimetype": "text/x-python",
   "name": "python",
   "nbconvert_exporter": "python",
   "pygments_lexer": "ipython3",
   "version": "3.11.9"
  }
 },
 "nbformat": 4,
 "nbformat_minor": 2
}
